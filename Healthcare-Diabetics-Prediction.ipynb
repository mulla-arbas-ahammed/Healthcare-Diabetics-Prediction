{
 "cells": [
  {
   "cell_type": "markdown",
   "id": "e25dc581",
   "metadata": {
    "papermill": {
     "duration": 0.023038,
     "end_time": "2023-08-11T10:33:49.807400",
     "exception": false,
     "start_time": "2023-08-11T10:33:49.784362",
     "status": "completed"
    },
    "tags": []
   },
   "source": [
    "# Predict Diabetes using with ML"
   ]
  },
  {
   "cell_type": "code",
   "execution_count": 1,
   "id": "dbee981e",
   "metadata": {
    "execution": {
     "iopub.execute_input": "2023-08-11T10:33:49.900746Z",
     "iopub.status.busy": "2023-08-11T10:33:49.900368Z",
     "iopub.status.idle": "2023-08-11T10:33:53.319697Z",
     "shell.execute_reply": "2023-08-11T10:33:53.318243Z"
    },
    "papermill": {
     "duration": 3.445863,
     "end_time": "2023-08-11T10:33:53.322087",
     "exception": false,
     "start_time": "2023-08-11T10:33:49.876224",
     "status": "completed"
    },
    "tags": []
   },
   "outputs": [],
   "source": [
    "import pandas as pd \n",
    "import numpy as np\n",
    "import matplotlib.pyplot as plt\n",
    "import seaborn as sns\n",
    "from sklearn.model_selection import train_test_split , cross_val_score,KFold,GridSearchCV\n",
    "from sklearn.metrics import accuracy_score, precision_score, recall_score, f1_score, roc_auc_score, confusion_matrix,classification_report\n",
    "import warnings\n",
    "warnings.filterwarnings(\"ignore\")"
   ]
  },
  {
   "cell_type": "markdown",
   "id": "a5d2e5b0",
   "metadata": {
    "papermill": {
     "duration": 0.022251,
     "end_time": "2023-08-11T10:33:53.367486",
     "exception": false,
     "start_time": "2023-08-11T10:33:53.345235",
     "status": "completed"
    },
    "tags": []
   },
   "source": [
    "### Data Understanding\n",
    "Id: Unique identifier for each data entry.\n",
    "\n",
    "Pregnancies: Number of times pregnant\n",
    "\n",
    "Glucose: Plasma glucose concentration a 2 hours in an oral glucose tolerance test\n",
    "\n",
    "BloodPressure: Diastolic blood pressure (mm Hg)\n",
    "\n",
    "SkinThickness: Triceps skin fold thickness (mm)\n",
    "\n",
    "Insulin: 2-Hour serum insulin (mu U/ml)\n",
    "\n",
    "BMI: Body mass index (weight in kg/(height in m)^2)\n",
    "\n",
    "DiabetesPedigreeFunction: Diabetes pedigree function\n",
    "\n",
    "Age: Age (years)\n",
    "\n",
    "Outcome: Class variable (0 or 1)"
   ]
  },
  {
   "cell_type": "code",
   "execution_count": 2,
   "id": "a255ad0c",
   "metadata": {
    "execution": {
     "iopub.execute_input": "2023-08-11T10:33:53.413996Z",
     "iopub.status.busy": "2023-08-11T10:33:53.413621Z",
     "iopub.status.idle": "2023-08-11T10:33:53.435511Z",
     "shell.execute_reply": "2023-08-11T10:33:53.434470Z"
    },
    "papermill": {
     "duration": 0.047908,
     "end_time": "2023-08-11T10:33:53.437899",
     "exception": false,
     "start_time": "2023-08-11T10:33:53.389991",
     "status": "completed"
    },
    "tags": []
   },
   "outputs": [],
   "source": [
    "#read data\n",
    "df= pd.read_csv('Healthcare-Diabetes.csv')"
   ]
  },
  {
   "cell_type": "code",
   "execution_count": 3,
   "id": "c84fdf2e",
   "metadata": {
    "execution": {
     "iopub.execute_input": "2023-08-11T10:33:53.539686Z",
     "iopub.status.busy": "2023-08-11T10:33:53.539333Z",
     "iopub.status.idle": "2023-08-11T10:33:53.719110Z",
     "shell.execute_reply": "2023-08-11T10:33:53.717834Z"
    },
    "papermill": {
     "duration": 0.20567,
     "end_time": "2023-08-11T10:33:53.721317",
     "exception": false,
     "start_time": "2023-08-11T10:33:53.515647",
     "status": "completed"
    },
    "tags": []
   },
   "outputs": [
    {
     "data": {
      "text/html": [
       "<div>\n",
       "<style scoped>\n",
       "    .dataframe tbody tr th:only-of-type {\n",
       "        vertical-align: middle;\n",
       "    }\n",
       "\n",
       "    .dataframe tbody tr th {\n",
       "        vertical-align: top;\n",
       "    }\n",
       "\n",
       "    .dataframe thead th {\n",
       "        text-align: right;\n",
       "    }\n",
       "</style>\n",
       "<table border=\"1\" class=\"dataframe\">\n",
       "  <thead>\n",
       "    <tr style=\"text-align: right;\">\n",
       "      <th></th>\n",
       "      <th>Id</th>\n",
       "      <th>Pregnancies</th>\n",
       "      <th>Glucose</th>\n",
       "      <th>BloodPressure</th>\n",
       "      <th>SkinThickness</th>\n",
       "      <th>Insulin</th>\n",
       "      <th>BMI</th>\n",
       "      <th>DiabetesPedigreeFunction</th>\n",
       "      <th>Age</th>\n",
       "      <th>Outcome</th>\n",
       "    </tr>\n",
       "  </thead>\n",
       "  <tbody>\n",
       "    <tr>\n",
       "      <th>0</th>\n",
       "      <td>1</td>\n",
       "      <td>6</td>\n",
       "      <td>148</td>\n",
       "      <td>72</td>\n",
       "      <td>35</td>\n",
       "      <td>0</td>\n",
       "      <td>33.6</td>\n",
       "      <td>0.627</td>\n",
       "      <td>50</td>\n",
       "      <td>1</td>\n",
       "    </tr>\n",
       "    <tr>\n",
       "      <th>1</th>\n",
       "      <td>2</td>\n",
       "      <td>1</td>\n",
       "      <td>85</td>\n",
       "      <td>66</td>\n",
       "      <td>29</td>\n",
       "      <td>0</td>\n",
       "      <td>26.6</td>\n",
       "      <td>0.351</td>\n",
       "      <td>31</td>\n",
       "      <td>0</td>\n",
       "    </tr>\n",
       "    <tr>\n",
       "      <th>2</th>\n",
       "      <td>3</td>\n",
       "      <td>8</td>\n",
       "      <td>183</td>\n",
       "      <td>64</td>\n",
       "      <td>0</td>\n",
       "      <td>0</td>\n",
       "      <td>23.3</td>\n",
       "      <td>0.672</td>\n",
       "      <td>32</td>\n",
       "      <td>1</td>\n",
       "    </tr>\n",
       "    <tr>\n",
       "      <th>3</th>\n",
       "      <td>4</td>\n",
       "      <td>1</td>\n",
       "      <td>89</td>\n",
       "      <td>66</td>\n",
       "      <td>23</td>\n",
       "      <td>94</td>\n",
       "      <td>28.1</td>\n",
       "      <td>0.167</td>\n",
       "      <td>21</td>\n",
       "      <td>0</td>\n",
       "    </tr>\n",
       "    <tr>\n",
       "      <th>4</th>\n",
       "      <td>5</td>\n",
       "      <td>0</td>\n",
       "      <td>137</td>\n",
       "      <td>40</td>\n",
       "      <td>35</td>\n",
       "      <td>168</td>\n",
       "      <td>43.1</td>\n",
       "      <td>2.288</td>\n",
       "      <td>33</td>\n",
       "      <td>1</td>\n",
       "    </tr>\n",
       "  </tbody>\n",
       "</table>\n",
       "</div>"
      ],
      "text/plain": [
       "   Id  Pregnancies  Glucose  BloodPressure  SkinThickness  Insulin   BMI  \\\n",
       "0   1            6      148             72             35        0  33.6   \n",
       "1   2            1       85             66             29        0  26.6   \n",
       "2   3            8      183             64              0        0  23.3   \n",
       "3   4            1       89             66             23       94  28.1   \n",
       "4   5            0      137             40             35      168  43.1   \n",
       "\n",
       "   DiabetesPedigreeFunction  Age  Outcome  \n",
       "0                     0.627   50        1  \n",
       "1                     0.351   31        0  \n",
       "2                     0.672   32        1  \n",
       "3                     0.167   21        0  \n",
       "4                     2.288   33        1  "
      ]
     },
     "execution_count": 3,
     "metadata": {},
     "output_type": "execute_result"
    }
   ],
   "source": [
    "df.head()"
   ]
  },
  {
   "cell_type": "code",
   "execution_count": 4,
   "id": "cbf29609",
   "metadata": {
    "execution": {
     "iopub.execute_input": "2023-08-11T10:33:53.485627Z",
     "iopub.status.busy": "2023-08-11T10:33:53.485257Z",
     "iopub.status.idle": "2023-08-11T10:33:53.490154Z",
     "shell.execute_reply": "2023-08-11T10:33:53.489119Z"
    },
    "papermill": {
     "duration": 0.031442,
     "end_time": "2023-08-11T10:33:53.492706",
     "exception": false,
     "start_time": "2023-08-11T10:33:53.461264",
     "status": "completed"
    },
    "tags": []
   },
   "outputs": [
    {
     "data": {
      "text/plain": [
       "Index(['Id', 'Pregnancies', 'Glucose', 'BloodPressure', 'SkinThickness',\n",
       "       'Insulin', 'BMI', 'DiabetesPedigreeFunction', 'Age', 'Outcome'],\n",
       "      dtype='object')"
      ]
     },
     "execution_count": 4,
     "metadata": {},
     "output_type": "execute_result"
    }
   ],
   "source": [
    "df.columns "
   ]
  },
  {
   "cell_type": "code",
   "execution_count": 5,
   "id": "c67c3992",
   "metadata": {},
   "outputs": [],
   "source": [
    "df=df.drop(columns=[\"Id\"])"
   ]
  },
  {
   "cell_type": "code",
   "execution_count": 6,
   "id": "a5ace291",
   "metadata": {
    "execution": {
     "iopub.execute_input": "2023-08-11T10:33:53.768872Z",
     "iopub.status.busy": "2023-08-11T10:33:53.768495Z",
     "iopub.status.idle": "2023-08-11T10:33:53.773448Z",
     "shell.execute_reply": "2023-08-11T10:33:53.772364Z"
    },
    "papermill": {
     "duration": 0.031262,
     "end_time": "2023-08-11T10:33:53.775622",
     "exception": false,
     "start_time": "2023-08-11T10:33:53.744360",
     "status": "completed"
    },
    "scrolled": true,
    "tags": []
   },
   "outputs": [
    {
     "name": "stdout",
     "output_type": "stream",
     "text": [
      "dimension of data: (2768, 9)\n"
     ]
    }
   ],
   "source": [
    "print(\"dimension of data: {}\".format(df.shape))"
   ]
  },
  {
   "cell_type": "markdown",
   "id": "82684e69",
   "metadata": {
    "papermill": {
     "duration": 0.023222,
     "end_time": "2023-08-11T10:33:53.822924",
     "exception": false,
     "start_time": "2023-08-11T10:33:53.799702",
     "status": "completed"
    },
    "tags": []
   },
   "source": [
    "The diabetes dataset consists of 2768 data points, with 10 features each:"
   ]
  },
  {
   "cell_type": "code",
   "execution_count": 7,
   "id": "ce813104",
   "metadata": {
    "execution": {
     "iopub.execute_input": "2023-08-11T10:33:53.919258Z",
     "iopub.status.busy": "2023-08-11T10:33:53.918896Z",
     "iopub.status.idle": "2023-08-11T10:33:53.946737Z",
     "shell.execute_reply": "2023-08-11T10:33:53.945170Z"
    },
    "papermill": {
     "duration": 0.055119,
     "end_time": "2023-08-11T10:33:53.949193",
     "exception": false,
     "start_time": "2023-08-11T10:33:53.894074",
     "status": "completed"
    },
    "scrolled": true,
    "tags": []
   },
   "outputs": [
    {
     "name": "stdout",
     "output_type": "stream",
     "text": [
      "<class 'pandas.core.frame.DataFrame'>\n",
      "RangeIndex: 2768 entries, 0 to 2767\n",
      "Data columns (total 9 columns):\n",
      " #   Column                    Non-Null Count  Dtype  \n",
      "---  ------                    --------------  -----  \n",
      " 0   Pregnancies               2768 non-null   int64  \n",
      " 1   Glucose                   2768 non-null   int64  \n",
      " 2   BloodPressure             2768 non-null   int64  \n",
      " 3   SkinThickness             2768 non-null   int64  \n",
      " 4   Insulin                   2768 non-null   int64  \n",
      " 5   BMI                       2768 non-null   float64\n",
      " 6   DiabetesPedigreeFunction  2768 non-null   float64\n",
      " 7   Age                       2768 non-null   int64  \n",
      " 8   Outcome                   2768 non-null   int64  \n",
      "dtypes: float64(2), int64(7)\n",
      "memory usage: 194.8 KB\n"
     ]
    }
   ],
   "source": [
    "df.info()"
   ]
  },
  {
   "cell_type": "code",
   "execution_count": 8,
   "id": "06c03626",
   "metadata": {
    "execution": {
     "iopub.execute_input": "2023-08-11T10:33:53.999525Z",
     "iopub.status.busy": "2023-08-11T10:33:53.999203Z",
     "iopub.status.idle": "2023-08-11T10:33:54.007891Z",
     "shell.execute_reply": "2023-08-11T10:33:54.006862Z"
    },
    "papermill": {
     "duration": 0.035102,
     "end_time": "2023-08-11T10:33:54.009661",
     "exception": false,
     "start_time": "2023-08-11T10:33:53.974559",
     "status": "completed"
    },
    "tags": []
   },
   "outputs": [
    {
     "data": {
      "text/plain": [
       "Pregnancies                 0\n",
       "Glucose                     0\n",
       "BloodPressure               0\n",
       "SkinThickness               0\n",
       "Insulin                     0\n",
       "BMI                         0\n",
       "DiabetesPedigreeFunction    0\n",
       "Age                         0\n",
       "Outcome                     0\n",
       "dtype: int64"
      ]
     },
     "execution_count": 8,
     "metadata": {},
     "output_type": "execute_result"
    }
   ],
   "source": [
    "df.isnull().sum()"
   ]
  },
  {
   "cell_type": "code",
   "execution_count": 9,
   "id": "d13c66bf",
   "metadata": {
    "execution": {
     "iopub.execute_input": "2023-08-11T10:33:54.059243Z",
     "iopub.status.busy": "2023-08-11T10:33:54.058197Z",
     "iopub.status.idle": "2023-08-11T10:33:54.092159Z",
     "shell.execute_reply": "2023-08-11T10:33:54.091035Z"
    },
    "papermill": {
     "duration": 0.061369,
     "end_time": "2023-08-11T10:33:54.094604",
     "exception": false,
     "start_time": "2023-08-11T10:33:54.033235",
     "status": "completed"
    },
    "tags": []
   },
   "outputs": [
    {
     "data": {
      "text/html": [
       "<div>\n",
       "<style scoped>\n",
       "    .dataframe tbody tr th:only-of-type {\n",
       "        vertical-align: middle;\n",
       "    }\n",
       "\n",
       "    .dataframe tbody tr th {\n",
       "        vertical-align: top;\n",
       "    }\n",
       "\n",
       "    .dataframe thead th {\n",
       "        text-align: right;\n",
       "    }\n",
       "</style>\n",
       "<table border=\"1\" class=\"dataframe\">\n",
       "  <thead>\n",
       "    <tr style=\"text-align: right;\">\n",
       "      <th></th>\n",
       "      <th>count</th>\n",
       "      <th>mean</th>\n",
       "      <th>std</th>\n",
       "      <th>min</th>\n",
       "      <th>25%</th>\n",
       "      <th>50%</th>\n",
       "      <th>75%</th>\n",
       "      <th>max</th>\n",
       "    </tr>\n",
       "  </thead>\n",
       "  <tbody>\n",
       "    <tr>\n",
       "      <th>Pregnancies</th>\n",
       "      <td>2768.0</td>\n",
       "      <td>3.742775</td>\n",
       "      <td>3.323801</td>\n",
       "      <td>0.000</td>\n",
       "      <td>1.000</td>\n",
       "      <td>3.000</td>\n",
       "      <td>6.000</td>\n",
       "      <td>17.00</td>\n",
       "    </tr>\n",
       "    <tr>\n",
       "      <th>Glucose</th>\n",
       "      <td>2768.0</td>\n",
       "      <td>121.102601</td>\n",
       "      <td>32.036508</td>\n",
       "      <td>0.000</td>\n",
       "      <td>99.000</td>\n",
       "      <td>117.000</td>\n",
       "      <td>141.000</td>\n",
       "      <td>199.00</td>\n",
       "    </tr>\n",
       "    <tr>\n",
       "      <th>BloodPressure</th>\n",
       "      <td>2768.0</td>\n",
       "      <td>69.134393</td>\n",
       "      <td>19.231438</td>\n",
       "      <td>0.000</td>\n",
       "      <td>62.000</td>\n",
       "      <td>72.000</td>\n",
       "      <td>80.000</td>\n",
       "      <td>122.00</td>\n",
       "    </tr>\n",
       "    <tr>\n",
       "      <th>SkinThickness</th>\n",
       "      <td>2768.0</td>\n",
       "      <td>20.824422</td>\n",
       "      <td>16.059596</td>\n",
       "      <td>0.000</td>\n",
       "      <td>0.000</td>\n",
       "      <td>23.000</td>\n",
       "      <td>32.000</td>\n",
       "      <td>110.00</td>\n",
       "    </tr>\n",
       "    <tr>\n",
       "      <th>Insulin</th>\n",
       "      <td>2768.0</td>\n",
       "      <td>80.127890</td>\n",
       "      <td>112.301933</td>\n",
       "      <td>0.000</td>\n",
       "      <td>0.000</td>\n",
       "      <td>37.000</td>\n",
       "      <td>130.000</td>\n",
       "      <td>846.00</td>\n",
       "    </tr>\n",
       "    <tr>\n",
       "      <th>BMI</th>\n",
       "      <td>2768.0</td>\n",
       "      <td>32.137392</td>\n",
       "      <td>8.076127</td>\n",
       "      <td>0.000</td>\n",
       "      <td>27.300</td>\n",
       "      <td>32.200</td>\n",
       "      <td>36.625</td>\n",
       "      <td>80.60</td>\n",
       "    </tr>\n",
       "    <tr>\n",
       "      <th>DiabetesPedigreeFunction</th>\n",
       "      <td>2768.0</td>\n",
       "      <td>0.471193</td>\n",
       "      <td>0.325669</td>\n",
       "      <td>0.078</td>\n",
       "      <td>0.244</td>\n",
       "      <td>0.375</td>\n",
       "      <td>0.624</td>\n",
       "      <td>2.42</td>\n",
       "    </tr>\n",
       "    <tr>\n",
       "      <th>Age</th>\n",
       "      <td>2768.0</td>\n",
       "      <td>33.132225</td>\n",
       "      <td>11.777230</td>\n",
       "      <td>21.000</td>\n",
       "      <td>24.000</td>\n",
       "      <td>29.000</td>\n",
       "      <td>40.000</td>\n",
       "      <td>81.00</td>\n",
       "    </tr>\n",
       "    <tr>\n",
       "      <th>Outcome</th>\n",
       "      <td>2768.0</td>\n",
       "      <td>0.343931</td>\n",
       "      <td>0.475104</td>\n",
       "      <td>0.000</td>\n",
       "      <td>0.000</td>\n",
       "      <td>0.000</td>\n",
       "      <td>1.000</td>\n",
       "      <td>1.00</td>\n",
       "    </tr>\n",
       "  </tbody>\n",
       "</table>\n",
       "</div>"
      ],
      "text/plain": [
       "                           count        mean         std     min     25%  \\\n",
       "Pregnancies               2768.0    3.742775    3.323801   0.000   1.000   \n",
       "Glucose                   2768.0  121.102601   32.036508   0.000  99.000   \n",
       "BloodPressure             2768.0   69.134393   19.231438   0.000  62.000   \n",
       "SkinThickness             2768.0   20.824422   16.059596   0.000   0.000   \n",
       "Insulin                   2768.0   80.127890  112.301933   0.000   0.000   \n",
       "BMI                       2768.0   32.137392    8.076127   0.000  27.300   \n",
       "DiabetesPedigreeFunction  2768.0    0.471193    0.325669   0.078   0.244   \n",
       "Age                       2768.0   33.132225   11.777230  21.000  24.000   \n",
       "Outcome                   2768.0    0.343931    0.475104   0.000   0.000   \n",
       "\n",
       "                              50%      75%     max  \n",
       "Pregnancies                 3.000    6.000   17.00  \n",
       "Glucose                   117.000  141.000  199.00  \n",
       "BloodPressure              72.000   80.000  122.00  \n",
       "SkinThickness              23.000   32.000  110.00  \n",
       "Insulin                    37.000  130.000  846.00  \n",
       "BMI                        32.200   36.625   80.60  \n",
       "DiabetesPedigreeFunction    0.375    0.624    2.42  \n",
       "Age                        29.000   40.000   81.00  \n",
       "Outcome                     0.000    1.000    1.00  "
      ]
     },
     "execution_count": 9,
     "metadata": {},
     "output_type": "execute_result"
    }
   ],
   "source": [
    "df.describe().T"
   ]
  },
  {
   "cell_type": "markdown",
   "id": "e35590ab",
   "metadata": {
    "papermill": {
     "duration": 0.023684,
     "end_time": "2023-08-11T10:33:54.141995",
     "exception": false,
     "start_time": "2023-08-11T10:33:54.118311",
     "status": "completed"
    },
    "tags": []
   },
   "source": [
    "\"outcome\" Is the feature that I will expect, 0 means no diabetes, 1 means presence"
   ]
  },
  {
   "cell_type": "code",
   "execution_count": 10,
   "id": "a8b195d4",
   "metadata": {
    "execution": {
     "iopub.execute_input": "2023-08-11T10:33:54.191589Z",
     "iopub.status.busy": "2023-08-11T10:33:54.191199Z",
     "iopub.status.idle": "2023-08-11T10:33:54.201134Z",
     "shell.execute_reply": "2023-08-11T10:33:54.199688Z"
    },
    "papermill": {
     "duration": 0.037516,
     "end_time": "2023-08-11T10:33:54.203457",
     "exception": false,
     "start_time": "2023-08-11T10:33:54.165941",
     "status": "completed"
    },
    "scrolled": true,
    "tags": []
   },
   "outputs": [
    {
     "name": "stdout",
     "output_type": "stream",
     "text": [
      "Outcome\n",
      "0    1816\n",
      "1     952\n",
      "dtype: int64\n"
     ]
    }
   ],
   "source": [
    "print(df.groupby('Outcome').size())"
   ]
  },
  {
   "cell_type": "markdown",
   "id": "9db48960",
   "metadata": {
    "papermill": {
     "duration": 0.022737,
     "end_time": "2023-08-11T10:33:54.250255",
     "exception": false,
     "start_time": "2023-08-11T10:33:54.227518",
     "status": "completed"
    },
    "tags": []
   },
   "source": [
    "500 is rated as 0 and 268 as 1:"
   ]
  },
  {
   "cell_type": "code",
   "execution_count": 11,
   "id": "a4eef8f1",
   "metadata": {
    "execution": {
     "iopub.execute_input": "2023-08-11T10:33:54.348074Z",
     "iopub.status.busy": "2023-08-11T10:33:54.347429Z",
     "iopub.status.idle": "2023-08-11T10:33:54.355459Z",
     "shell.execute_reply": "2023-08-11T10:33:54.354413Z"
    },
    "papermill": {
     "duration": 0.035656,
     "end_time": "2023-08-11T10:33:54.357479",
     "exception": false,
     "start_time": "2023-08-11T10:33:54.321823",
     "status": "completed"
    },
    "tags": []
   },
   "outputs": [],
   "source": [
    "df_0=df[df['Outcome']==0]\n",
    "df_1=df[df['Outcome']==1]"
   ]
  },
  {
   "cell_type": "code",
   "execution_count": 12,
   "id": "6e084b39",
   "metadata": {
    "execution": {
     "iopub.execute_input": "2023-08-11T10:33:54.452708Z",
     "iopub.status.busy": "2023-08-11T10:33:54.452351Z",
     "iopub.status.idle": "2023-08-11T10:33:54.636507Z",
     "shell.execute_reply": "2023-08-11T10:33:54.635144Z"
    },
    "papermill": {
     "duration": 0.211715,
     "end_time": "2023-08-11T10:33:54.639055",
     "exception": false,
     "start_time": "2023-08-11T10:33:54.427340",
     "status": "completed"
    },
    "scrolled": true,
    "tags": []
   },
   "outputs": [
    {
     "data": {
      "image/png": "[encoded data removed]",
      "text/plain": [
       "<Figure size 640x480 with 1 Axes>"
      ]
     },
     "metadata": {},
     "output_type": "display_data"
    }
   ],
   "source": [
    "## The number of views in each categorical basket using bars.\n",
    "sns.countplot(data= df , x='Outcome',label=\"Count\")\n",
    "plt.show()"
   ]
  },
  {
   "cell_type": "markdown",
   "id": "987789ec",
   "metadata": {
    "papermill": {
     "duration": 0.023552,
     "end_time": "2023-08-11T10:33:54.783382",
     "exception": false,
     "start_time": "2023-08-11T10:33:54.759830",
     "status": "completed"
    },
    "tags": []
   },
   "source": [
    "#### Age"
   ]
  },
  {
   "cell_type": "code",
   "execution_count": 13,
   "id": "b72994be",
   "metadata": {
    "execution": {
     "iopub.execute_input": "2023-08-11T10:33:54.833081Z",
     "iopub.status.busy": "2023-08-11T10:33:54.832676Z",
     "iopub.status.idle": "2023-08-11T10:33:55.016254Z",
     "shell.execute_reply": "2023-08-11T10:33:55.014698Z"
    },
    "papermill": {
     "duration": 0.211491,
     "end_time": "2023-08-11T10:33:55.018883",
     "exception": false,
     "start_time": "2023-08-11T10:33:54.807392",
     "status": "completed"
    },
    "tags": []
   },
   "outputs": [
    {
     "data": {
      "image/png": "[encoded data removed]",
      "text/plain": [
       "<Figure size 640x480 with 1 Axes>"
      ]
     },
     "metadata": {},
     "output_type": "display_data"
    }
   ],
   "source": [
    "# histogram of the \"Age\" variable in the \"Outcome=0\" dataset \n",
    "plt.hist(df_0[\"Age\"] )\n",
    "plt.xlabel(\"Age\")\n",
    "plt.ylabel(\"Count\")\n",
    "plt.show()"
   ]
  },
  {
   "cell_type": "code",
   "execution_count": 14,
   "id": "74e3f1f7",
   "metadata": {
    "execution": {
     "iopub.execute_input": "2023-08-11T10:33:55.068465Z",
     "iopub.status.busy": "2023-08-11T10:33:55.068102Z",
     "iopub.status.idle": "2023-08-11T10:33:55.241846Z",
     "shell.execute_reply": "2023-08-11T10:33:55.240983Z"
    },
    "papermill": {
     "duration": 0.200822,
     "end_time": "2023-08-11T10:33:55.243707",
     "exception": false,
     "start_time": "2023-08-11T10:33:55.042885",
     "status": "completed"
    },
    "tags": []
   },
   "outputs": [
    {
     "data": {
      "image/png": "[encoded data removed]",
      "text/plain": [
       "<Figure size 640x480 with 1 Axes>"
      ]
     },
     "metadata": {},
     "output_type": "display_data"
    }
   ],
   "source": [
    "# histogram of the \"Age\" variable in the \"Outcome=1\" dataset \n",
    "plt.hist(df_1[\"Age\"])\n",
    "plt.xlabel(\"Age\")\n",
    "plt.ylabel(\"Count\")\n",
    "plt.show()"
   ]
  },
  {
   "cell_type": "code",
   "execution_count": 15,
   "id": "6e3d93c9",
   "metadata": {
    "execution": {
     "iopub.execute_input": "2023-08-11T10:33:55.294309Z",
     "iopub.status.busy": "2023-08-11T10:33:55.293659Z",
     "iopub.status.idle": "2023-08-11T10:33:55.572528Z",
     "shell.execute_reply": "2023-08-11T10:33:55.571237Z"
    },
    "papermill": {
     "duration": 0.306844,
     "end_time": "2023-08-11T10:33:55.574784",
     "exception": false,
     "start_time": "2023-08-11T10:33:55.267940",
     "status": "completed"
    },
    "scrolled": true,
    "tags": []
   },
   "outputs": [
    {
     "data": {
      "image/png": "[encoded data removed]",
      "text/plain": [
       "<Figure size 640x480 with 1 Axes>"
      ]
     },
     "metadata": {},
     "output_type": "display_data"
    }
   ],
   "source": [
    "# histogram of the \"Age\"  \n",
    "sns.histplot(data=df, x='Age'  , hue='Outcome')\n",
    "plt.xlabel(\"Age\")\n",
    "plt.ylabel(\"Count\")\n",
    "plt.show()"
   ]
  },
  {
   "cell_type": "code",
   "execution_count": 16,
   "id": "a5d3c46b",
   "metadata": {
    "execution": {
     "iopub.execute_input": "2023-08-11T10:33:55.627655Z",
     "iopub.status.busy": "2023-08-11T10:33:55.627081Z",
     "iopub.status.idle": "2023-08-11T10:33:55.825279Z",
     "shell.execute_reply": "2023-08-11T10:33:55.823835Z"
    },
    "papermill": {
     "duration": 0.227439,
     "end_time": "2023-08-11T10:33:55.827760",
     "exception": false,
     "start_time": "2023-08-11T10:33:55.600321",
     "status": "completed"
    },
    "tags": []
   },
   "outputs": [
    {
     "data": {
      "image/png": "[encoded data removed]",
      "text/plain": [
       "<Figure size 640x480 with 1 Axes>"
      ]
     },
     "metadata": {},
     "output_type": "display_data"
    }
   ],
   "source": [
    "#plot Age\n",
    "plt.violinplot(df['Age'])\n",
    "plt.show()"
   ]
  },
  {
   "cell_type": "code",
   "execution_count": 17,
   "id": "3bb8faa4",
   "metadata": {
    "execution": {
     "iopub.execute_input": "2023-08-11T10:33:55.880842Z",
     "iopub.status.busy": "2023-08-11T10:33:55.880499Z",
     "iopub.status.idle": "2023-08-11T10:33:56.029688Z",
     "shell.execute_reply": "2023-08-11T10:33:56.028877Z"
    },
    "papermill": {
     "duration": 0.179659,
     "end_time": "2023-08-11T10:33:56.033167",
     "exception": false,
     "start_time": "2023-08-11T10:33:55.853508",
     "status": "completed"
    },
    "scrolled": true,
    "tags": []
   },
   "outputs": [
    {
     "data": {
      "image/png": "[encoded data removed]",
      "text/plain": [
       "<Figure size 640x480 with 1 Axes>"
      ]
     },
     "metadata": {},
     "output_type": "display_data"
    }
   ],
   "source": [
    "#boxplot Age\n",
    "sns.boxplot(df['Age'])\n",
    "plt.show()"
   ]
  },
  {
   "cell_type": "code",
   "execution_count": 18,
   "id": "e814f6c9",
   "metadata": {
    "execution": {
     "iopub.execute_input": "2023-08-11T10:33:56.140432Z",
     "iopub.status.busy": "2023-08-11T10:33:56.139595Z",
     "iopub.status.idle": "2023-08-11T10:33:56.146525Z",
     "shell.execute_reply": "2023-08-11T10:33:56.145382Z"
    },
    "papermill": {
     "duration": 0.036783,
     "end_time": "2023-08-11T10:33:56.148375",
     "exception": false,
     "start_time": "2023-08-11T10:33:56.111592",
     "status": "completed"
    },
    "scrolled": true,
    "tags": []
   },
   "outputs": [
    {
     "data": {
      "text/plain": [
       "31.11123348017621"
      ]
     },
     "execution_count": 18,
     "metadata": {},
     "output_type": "execute_result"
    }
   ],
   "source": [
    "df_0['Age'].mean()"
   ]
  },
  {
   "cell_type": "code",
   "execution_count": 19,
   "id": "bd0d3351",
   "metadata": {
    "execution": {
     "iopub.execute_input": "2023-08-11T10:33:56.200919Z",
     "iopub.status.busy": "2023-08-11T10:33:56.200559Z",
     "iopub.status.idle": "2023-08-11T10:33:56.207607Z",
     "shell.execute_reply": "2023-08-11T10:33:56.206190Z"
    },
    "papermill": {
     "duration": 0.035757,
     "end_time": "2023-08-11T10:33:56.209514",
     "exception": false,
     "start_time": "2023-08-11T10:33:56.173757",
     "status": "completed"
    },
    "tags": []
   },
   "outputs": [
    {
     "data": {
      "text/plain": [
       "36.98739495798319"
      ]
     },
     "execution_count": 19,
     "metadata": {},
     "output_type": "execute_result"
    }
   ],
   "source": [
    "df_1['Age'].mean()"
   ]
  },
  {
   "cell_type": "markdown",
   "id": "7cb760f3",
   "metadata": {
    "papermill": {
     "duration": 0.026073,
     "end_time": "2023-08-11T10:33:56.261585",
     "exception": false,
     "start_time": "2023-08-11T10:33:56.235512",
     "status": "completed"
    },
    "tags": []
   },
   "source": [
    "###### The incidence of diabetes increases from the age of 36"
   ]
  },
  {
   "cell_type": "markdown",
   "id": "e94cfb64",
   "metadata": {
    "papermill": {
     "duration": 0.024885,
     "end_time": "2023-08-11T10:33:56.361839",
     "exception": false,
     "start_time": "2023-08-11T10:33:56.336954",
     "status": "completed"
    },
    "tags": []
   },
   "source": [
    "#### SkinThickness"
   ]
  },
  {
   "cell_type": "code",
   "execution_count": 20,
   "id": "9fd56c16",
   "metadata": {
    "execution": {
     "iopub.execute_input": "2023-08-11T10:33:56.415477Z",
     "iopub.status.busy": "2023-08-11T10:33:56.414774Z",
     "iopub.status.idle": "2023-08-11T10:33:56.676149Z",
     "shell.execute_reply": "2023-08-11T10:33:56.675103Z"
    },
    "papermill": {
     "duration": 0.291008,
     "end_time": "2023-08-11T10:33:56.678000",
     "exception": false,
     "start_time": "2023-08-11T10:33:56.386992",
     "status": "completed"
    },
    "tags": []
   },
   "outputs": [
    {
     "data": {
      "image/png": "[encoded data removed]",
      "text/plain": [
       "<Figure size 640x480 with 1 Axes>"
      ]
     },
     "metadata": {},
     "output_type": "display_data"
    }
   ],
   "source": [
    "# histogram of the \"SkinThickness\"  \n",
    "sns.histplot(data=df, x='SkinThickness'  , hue='Outcome')\n",
    "plt.xlabel(\"SkinThickness\")\n",
    "plt.ylabel(\"Count\")\n",
    "plt.show()"
   ]
  },
  {
   "cell_type": "code",
   "execution_count": 21,
   "id": "e2b61cc8",
   "metadata": {
    "execution": {
     "iopub.execute_input": "2023-08-11T10:33:56.731634Z",
     "iopub.status.busy": "2023-08-11T10:33:56.730941Z",
     "iopub.status.idle": "2023-08-11T10:33:56.912930Z",
     "shell.execute_reply": "2023-08-11T10:33:56.912155Z"
    },
    "papermill": {
     "duration": 0.211739,
     "end_time": "2023-08-11T10:33:56.915257",
     "exception": false,
     "start_time": "2023-08-11T10:33:56.703518",
     "status": "completed"
    },
    "tags": []
   },
   "outputs": [
    {
     "data": {
      "image/png": "[encoded data removed]",
      "text/plain": [
       "<Figure size 640x480 with 1 Axes>"
      ]
     },
     "metadata": {},
     "output_type": "display_data"
    }
   ],
   "source": [
    "#violinplot SkinThickness\n",
    "plt.violinplot(df['SkinThickness'])\n",
    "plt.show()"
   ]
  },
  {
   "cell_type": "code",
   "execution_count": 22,
   "id": "041e1f2c",
   "metadata": {
    "execution": {
     "iopub.execute_input": "2023-08-11T10:33:56.969811Z",
     "iopub.status.busy": "2023-08-11T10:33:56.968899Z",
     "iopub.status.idle": "2023-08-11T10:33:56.975334Z",
     "shell.execute_reply": "2023-08-11T10:33:56.974642Z"
    },
    "papermill": {
     "duration": 0.0362,
     "end_time": "2023-08-11T10:33:56.977617",
     "exception": false,
     "start_time": "2023-08-11T10:33:56.941417",
     "status": "completed"
    },
    "tags": []
   },
   "outputs": [
    {
     "data": {
      "text/plain": [
       "19.945484581497798"
      ]
     },
     "execution_count": 22,
     "metadata": {},
     "output_type": "execute_result"
    }
   ],
   "source": [
    "# average healthy people  SkinThickness \n",
    "df_0['SkinThickness'].mean()\n"
   ]
  },
  {
   "cell_type": "code",
   "execution_count": 23,
   "id": "846bce24",
   "metadata": {
    "execution": {
     "iopub.execute_input": "2023-08-11T10:33:57.033064Z",
     "iopub.status.busy": "2023-08-11T10:33:57.032684Z",
     "iopub.status.idle": "2023-08-11T10:33:57.039499Z",
     "shell.execute_reply": "2023-08-11T10:33:57.038017Z"
    },
    "papermill": {
     "duration": 0.037156,
     "end_time": "2023-08-11T10:33:57.041680",
     "exception": false,
     "start_time": "2023-08-11T10:33:57.004524",
     "status": "completed"
    },
    "scrolled": true,
    "tags": []
   },
   "outputs": [
    {
     "data": {
      "text/plain": [
       "110"
      ]
     },
     "execution_count": 23,
     "metadata": {},
     "output_type": "execute_result"
    }
   ],
   "source": [
    "# max healthy people  SkinThickness \n",
    "df_0['SkinThickness'].max()\n"
   ]
  },
  {
   "cell_type": "code",
   "execution_count": 24,
   "id": "91ca166b",
   "metadata": {
    "execution": {
     "iopub.execute_input": "2023-08-11T10:33:57.097169Z",
     "iopub.status.busy": "2023-08-11T10:33:57.096824Z",
     "iopub.status.idle": "2023-08-11T10:33:57.103678Z",
     "shell.execute_reply": "2023-08-11T10:33:57.102389Z"
    },
    "papermill": {
     "duration": 0.037319,
     "end_time": "2023-08-11T10:33:57.105488",
     "exception": false,
     "start_time": "2023-08-11T10:33:57.068169",
     "status": "completed"
    },
    "scrolled": true,
    "tags": []
   },
   "outputs": [
    {
     "data": {
      "text/plain": [
       "22.501050420168067"
      ]
     },
     "execution_count": 24,
     "metadata": {},
     "output_type": "execute_result"
    }
   ],
   "source": [
    "# average diabetics  SkinThickness \n",
    "df_1['SkinThickness'].mean()"
   ]
  },
  {
   "cell_type": "code",
   "execution_count": 25,
   "id": "cbf211da",
   "metadata": {
    "execution": {
     "iopub.execute_input": "2023-08-11T10:33:57.160865Z",
     "iopub.status.busy": "2023-08-11T10:33:57.160465Z",
     "iopub.status.idle": "2023-08-11T10:33:57.167724Z",
     "shell.execute_reply": "2023-08-11T10:33:57.166779Z"
    },
    "papermill": {
     "duration": 0.037652,
     "end_time": "2023-08-11T10:33:57.169960",
     "exception": false,
     "start_time": "2023-08-11T10:33:57.132308",
     "status": "completed"
    },
    "scrolled": true,
    "tags": []
   },
   "outputs": [
    {
     "data": {
      "text/plain": [
       "99"
      ]
     },
     "execution_count": 25,
     "metadata": {},
     "output_type": "execute_result"
    }
   ],
   "source": [
    "# max diabetics  SkinThickness \n",
    "df_1['SkinThickness'].max()\n"
   ]
  },
  {
   "cell_type": "markdown",
   "id": "1b0003e7",
   "metadata": {
    "papermill": {
     "duration": 0.026519,
     "end_time": "2023-08-11T10:33:57.224450",
     "exception": false,
     "start_time": "2023-08-11T10:33:57.197931",
     "status": "completed"
    },
    "tags": []
   },
   "source": [
    "###### The thickness of the skin of diabetics is higher than that of healthy people"
   ]
  },
  {
   "cell_type": "markdown",
   "id": "ba51835a",
   "metadata": {
    "papermill": {
     "duration": 0.025856,
     "end_time": "2023-08-11T10:33:57.330452",
     "exception": false,
     "start_time": "2023-08-11T10:33:57.304596",
     "status": "completed"
    },
    "tags": []
   },
   "source": [
    "#### BMI"
   ]
  },
  {
   "cell_type": "code",
   "execution_count": 26,
   "id": "ea630818",
   "metadata": {
    "execution": {
     "iopub.execute_input": "2023-08-11T10:33:57.385791Z",
     "iopub.status.busy": "2023-08-11T10:33:57.383586Z",
     "iopub.status.idle": "2023-08-11T10:33:57.695059Z",
     "shell.execute_reply": "2023-08-11T10:33:57.694037Z"
    },
    "papermill": {
     "duration": 0.341209,
     "end_time": "2023-08-11T10:33:57.697612",
     "exception": false,
     "start_time": "2023-08-11T10:33:57.356403",
     "status": "completed"
    },
    "scrolled": true,
    "tags": []
   },
   "outputs": [
    {
     "data": {
      "image/png": "[encoded data removed]",
      "text/plain": [
       "<Figure size 640x480 with 1 Axes>"
      ]
     },
     "metadata": {},
     "output_type": "display_data"
    }
   ],
   "source": [
    "## histogram of the \"BMi\"  \n",
    "sns.histplot(data=df, x='BMI'  , hue='Outcome')\n",
    "plt.xlabel(\"BMI\")\n",
    "plt.ylabel(\"Count\")\n",
    "plt.show()"
   ]
  },
  {
   "cell_type": "code",
   "execution_count": 27,
   "id": "1c802ad4",
   "metadata": {
    "execution": {
     "iopub.execute_input": "2023-08-11T10:33:57.807102Z",
     "iopub.status.busy": "2023-08-11T10:33:57.806704Z",
     "iopub.status.idle": "2023-08-11T10:33:57.813524Z",
     "shell.execute_reply": "2023-08-11T10:33:57.812257Z"
    },
    "papermill": {
     "duration": 0.037044,
     "end_time": "2023-08-11T10:33:57.815388",
     "exception": false,
     "start_time": "2023-08-11T10:33:57.778344",
     "status": "completed"
    },
    "tags": []
   },
   "outputs": [
    {
     "data": {
      "text/plain": [
       "30.494988986784143"
      ]
     },
     "execution_count": 27,
     "metadata": {},
     "output_type": "execute_result"
    }
   ],
   "source": [
    "# average healthy people  BMI \n",
    "df_0['BMI'].mean()"
   ]
  },
  {
   "cell_type": "code",
   "execution_count": 28,
   "id": "58fdf78b",
   "metadata": {
    "execution": {
     "iopub.execute_input": "2023-08-11T10:33:57.871162Z",
     "iopub.status.busy": "2023-08-11T10:33:57.870317Z",
     "iopub.status.idle": "2023-08-11T10:33:57.877366Z",
     "shell.execute_reply": "2023-08-11T10:33:57.875940Z"
    },
    "papermill": {
     "duration": 0.037072,
     "end_time": "2023-08-11T10:33:57.879768",
     "exception": false,
     "start_time": "2023-08-11T10:33:57.842696",
     "status": "completed"
    },
    "tags": []
   },
   "outputs": [
    {
     "data": {
      "text/plain": [
       "80.6"
      ]
     },
     "execution_count": 28,
     "metadata": {},
     "output_type": "execute_result"
    }
   ],
   "source": [
    "# max healthy people  BMI \n",
    "df_0['BMI'].max()"
   ]
  },
  {
   "cell_type": "code",
   "execution_count": 29,
   "id": "c717f839",
   "metadata": {
    "execution": {
     "iopub.execute_input": "2023-08-11T10:33:57.937212Z",
     "iopub.status.busy": "2023-08-11T10:33:57.936815Z",
     "iopub.status.idle": "2023-08-11T10:33:57.944080Z",
     "shell.execute_reply": "2023-08-11T10:33:57.942765Z"
    },
    "papermill": {
     "duration": 0.039004,
     "end_time": "2023-08-11T10:33:57.946486",
     "exception": false,
     "start_time": "2023-08-11T10:33:57.907482",
     "status": "completed"
    },
    "tags": []
   },
   "outputs": [
    {
     "data": {
      "text/plain": [
       "35.270378151260495"
      ]
     },
     "execution_count": 29,
     "metadata": {},
     "output_type": "execute_result"
    }
   ],
   "source": [
    "# average healthy people  BMI \n",
    "df_1['BMI'].mean()"
   ]
  },
  {
   "cell_type": "code",
   "execution_count": 30,
   "id": "f64d8111",
   "metadata": {
    "execution": {
     "iopub.execute_input": "2023-08-11T10:33:58.002639Z",
     "iopub.status.busy": "2023-08-11T10:33:58.002270Z",
     "iopub.status.idle": "2023-08-11T10:33:58.009250Z",
     "shell.execute_reply": "2023-08-11T10:33:58.008155Z"
    },
    "papermill": {
     "duration": 0.039039,
     "end_time": "2023-08-11T10:33:58.011749",
     "exception": false,
     "start_time": "2023-08-11T10:33:57.972710",
     "status": "completed"
    },
    "tags": []
   },
   "outputs": [
    {
     "data": {
      "text/plain": [
       "67.1"
      ]
     },
     "execution_count": 30,
     "metadata": {},
     "output_type": "execute_result"
    }
   ],
   "source": [
    "# max healthy people  BMI \n",
    "df_1['BMI'].max()"
   ]
  },
  {
   "cell_type": "markdown",
   "id": "bfbe2b66",
   "metadata": {
    "papermill": {
     "duration": 0.027173,
     "end_time": "2023-08-11T10:33:58.066424",
     "exception": false,
     "start_time": "2023-08-11T10:33:58.039251",
     "status": "completed"
    },
    "tags": []
   },
   "source": [
    "###### BMI is more common in affected patients than in healthy people."
   ]
  },
  {
   "cell_type": "code",
   "execution_count": 31,
   "id": "b64b8e89",
   "metadata": {
    "execution": {
     "iopub.execute_input": "2023-08-11T10:33:58.177247Z",
     "iopub.status.busy": "2023-08-11T10:33:58.176861Z",
     "iopub.status.idle": "2023-08-11T10:33:58.439979Z",
     "shell.execute_reply": "2023-08-11T10:33:58.438643Z"
    },
    "papermill": {
     "duration": 0.293171,
     "end_time": "2023-08-11T10:33:58.441917",
     "exception": false,
     "start_time": "2023-08-11T10:33:58.148746",
     "status": "completed"
    },
    "tags": []
   },
   "outputs": [
    {
     "data": {
      "image/png": "[encoded data removed]",
      "text/plain": [
       "<Figure size 640x480 with 1 Axes>"
      ]
     },
     "metadata": {},
     "output_type": "display_data"
    }
   ],
   "source": [
    "## histogram of the \"Pregnancies\"  \n",
    "sns.histplot(data=df, x='Pregnancies', hue='Outcome')\n",
    "plt.xlabel(\"Pregnancies\")\n",
    "plt.ylabel(\"Count\")\n",
    "plt.xticks(range(0,15,2))\n",
    "plt.show()"
   ]
  },
  {
   "cell_type": "code",
   "execution_count": 32,
   "id": "258d8898",
   "metadata": {
    "execution": {
     "iopub.execute_input": "2023-08-11T10:33:58.559432Z",
     "iopub.status.busy": "2023-08-11T10:33:58.559053Z",
     "iopub.status.idle": "2023-08-11T10:33:58.899484Z",
     "shell.execute_reply": "2023-08-11T10:33:58.898555Z"
    },
    "papermill": {
     "duration": 0.371997,
     "end_time": "2023-08-11T10:33:58.901475",
     "exception": false,
     "start_time": "2023-08-11T10:33:58.529478",
     "status": "completed"
    },
    "tags": []
   },
   "outputs": [
    {
     "data": {
      "image/png": "[encoded data removed]",
      "text/plain": [
       "<Figure size 640x480 with 1 Axes>"
      ]
     },
     "metadata": {},
     "output_type": "display_data"
    }
   ],
   "source": [
    "sns.countplot(data= df, x='Pregnancies',hue=\"Outcome\")\n",
    "plt.show()"
   ]
  },
  {
   "cell_type": "code",
   "execution_count": 33,
   "id": "ce549dc8",
   "metadata": {
    "execution": {
     "iopub.execute_input": "2023-08-11T10:33:59.023490Z",
     "iopub.status.busy": "2023-08-11T10:33:59.022898Z",
     "iopub.status.idle": "2023-08-11T10:33:59.028326Z",
     "shell.execute_reply": "2023-08-11T10:33:59.027665Z"
    },
    "papermill": {
     "duration": 0.036978,
     "end_time": "2023-08-11T10:33:59.030330",
     "exception": false,
     "start_time": "2023-08-11T10:33:58.993352",
     "status": "completed"
    },
    "tags": []
   },
   "outputs": [
    {
     "data": {
      "text/plain": [
       "3.204295154185022"
      ]
     },
     "execution_count": 33,
     "metadata": {},
     "output_type": "execute_result"
    }
   ],
   "source": [
    "# average healthy people  Pregnancies \n",
    "df_0['Pregnancies'].mean()"
   ]
  },
  {
   "cell_type": "code",
   "execution_count": 34,
   "id": "837a20dc",
   "metadata": {
    "execution": {
     "iopub.execute_input": "2023-08-11T10:33:59.093148Z",
     "iopub.status.busy": "2023-08-11T10:33:59.092725Z",
     "iopub.status.idle": "2023-08-11T10:33:59.098473Z",
     "shell.execute_reply": "2023-08-11T10:33:59.097715Z"
    },
    "papermill": {
     "duration": 0.039629,
     "end_time": "2023-08-11T10:33:59.100190",
     "exception": false,
     "start_time": "2023-08-11T10:33:59.060561",
     "status": "completed"
    },
    "tags": []
   },
   "outputs": [
    {
     "data": {
      "text/plain": [
       "13"
      ]
     },
     "execution_count": 34,
     "metadata": {},
     "output_type": "execute_result"
    }
   ],
   "source": [
    "# max healthy people  Pregnancies \n",
    "df_0['Pregnancies'].max()"
   ]
  },
  {
   "cell_type": "code",
   "execution_count": 35,
   "id": "53d29a1c",
   "metadata": {
    "execution": {
     "iopub.execute_input": "2023-08-11T10:33:59.159988Z",
     "iopub.status.busy": "2023-08-11T10:33:59.159339Z",
     "iopub.status.idle": "2023-08-11T10:33:59.165294Z",
     "shell.execute_reply": "2023-08-11T10:33:59.164308Z"
    },
    "papermill": {
     "duration": 0.037672,
     "end_time": "2023-08-11T10:33:59.166991",
     "exception": false,
     "start_time": "2023-08-11T10:33:59.129319",
     "status": "completed"
    },
    "tags": []
   },
   "outputs": [
    {
     "data": {
      "text/plain": [
       "4.769957983193278"
      ]
     },
     "execution_count": 35,
     "metadata": {},
     "output_type": "execute_result"
    }
   ],
   "source": [
    "# average healthy people  Pregnancies \n",
    "df_1['Pregnancies'].mean()"
   ]
  },
  {
   "cell_type": "code",
   "execution_count": 36,
   "id": "103e5d82",
   "metadata": {
    "execution": {
     "iopub.execute_input": "2023-08-11T10:33:59.224166Z",
     "iopub.status.busy": "2023-08-11T10:33:59.223532Z",
     "iopub.status.idle": "2023-08-11T10:33:59.229196Z",
     "shell.execute_reply": "2023-08-11T10:33:59.228319Z"
    },
    "papermill": {
     "duration": 0.03633,
     "end_time": "2023-08-11T10:33:59.231052",
     "exception": false,
     "start_time": "2023-08-11T10:33:59.194722",
     "status": "completed"
    },
    "tags": []
   },
   "outputs": [
    {
     "data": {
      "text/plain": [
       "17"
      ]
     },
     "execution_count": 36,
     "metadata": {},
     "output_type": "execute_result"
    }
   ],
   "source": [
    "# max healthy people  Pregnancies \n",
    "df_1['Pregnancies'].max()"
   ]
  },
  {
   "cell_type": "markdown",
   "id": "b254887a",
   "metadata": {
    "papermill": {
     "duration": 0.028897,
     "end_time": "2023-08-11T10:33:59.289552",
     "exception": false,
     "start_time": "2023-08-11T10:33:59.260655",
     "status": "completed"
    },
    "tags": []
   },
   "source": [
    "###### The higher the number of pregnancies, the higher the incidence of diabetes"
   ]
  },
  {
   "cell_type": "markdown",
   "id": "a63f3fa9",
   "metadata": {
    "papermill": {
     "duration": 0.029083,
     "end_time": "2023-08-11T10:33:59.403972",
     "exception": false,
     "start_time": "2023-08-11T10:33:59.374889",
     "status": "completed"
    },
    "tags": []
   },
   "source": [
    "#### BMI"
   ]
  },
  {
   "cell_type": "code",
   "execution_count": 37,
   "id": "4e0bef42",
   "metadata": {
    "execution": {
     "iopub.execute_input": "2023-08-11T10:33:59.462476Z",
     "iopub.status.busy": "2023-08-11T10:33:59.461811Z",
     "iopub.status.idle": "2023-08-11T10:33:59.781547Z",
     "shell.execute_reply": "2023-08-11T10:33:59.780578Z"
    },
    "papermill": {
     "duration": 0.351417,
     "end_time": "2023-08-11T10:33:59.784085",
     "exception": false,
     "start_time": "2023-08-11T10:33:59.432668",
     "status": "completed"
    },
    "tags": []
   },
   "outputs": [
    {
     "data": {
      "image/png": "[encoded data removed]",
      "text/plain": [
       "<Figure size 640x480 with 1 Axes>"
      ]
     },
     "metadata": {},
     "output_type": "display_data"
    }
   ],
   "source": [
    "## histogram of the \"BMI\"  \n",
    "sns.histplot(data=df, x='BMI', hue='Outcome')\n",
    "plt.xlabel(\"BMI\")\n",
    "plt.ylabel(\"Count\")\n",
    "plt.show()"
   ]
  },
  {
   "cell_type": "code",
   "execution_count": 38,
   "id": "33e75434",
   "metadata": {
    "execution": {
     "iopub.execute_input": "2023-08-11T10:33:59.847743Z",
     "iopub.status.busy": "2023-08-11T10:33:59.846606Z",
     "iopub.status.idle": "2023-08-11T10:34:00.075863Z",
     "shell.execute_reply": "2023-08-11T10:34:00.074861Z"
    },
    "papermill": {
     "duration": 0.26506,
     "end_time": "2023-08-11T10:34:00.078530",
     "exception": false,
     "start_time": "2023-08-11T10:33:59.813470",
     "status": "completed"
    },
    "scrolled": true,
    "tags": []
   },
   "outputs": [
    {
     "data": {
      "image/png": "[encoded data removed]",
      "text/plain": [
       "<Figure size 640x480 with 1 Axes>"
      ]
     },
     "metadata": {},
     "output_type": "display_data"
    }
   ],
   "source": [
    "#scateer plot relationship between Age with BMI\n",
    "plt.scatter (df[\"BMI\"] , df[\"Age\"] )\n",
    "plt.title (\"Age and BMI \")\n",
    "plt.xlabel ('BMI' )\n",
    "plt.ylabel ('Age')\n",
    "plt.show ()"
   ]
  },
  {
   "cell_type": "code",
   "execution_count": 39,
   "id": "4b19aa30",
   "metadata": {
    "execution": {
     "iopub.execute_input": "2023-08-11T10:34:00.256694Z",
     "iopub.status.busy": "2023-08-11T10:34:00.256315Z",
     "iopub.status.idle": "2023-08-11T10:34:00.263267Z",
     "shell.execute_reply": "2023-08-11T10:34:00.262155Z"
    },
    "papermill": {
     "duration": 0.039514,
     "end_time": "2023-08-11T10:34:00.265237",
     "exception": false,
     "start_time": "2023-08-11T10:34:00.225723",
     "status": "completed"
    },
    "tags": []
   },
   "outputs": [
    {
     "data": {
      "text/plain": [
       "30.494988986784143"
      ]
     },
     "execution_count": 39,
     "metadata": {},
     "output_type": "execute_result"
    }
   ],
   "source": [
    "# average healthy people  BMI \n",
    "df_0['BMI'].mean()"
   ]
  },
  {
   "cell_type": "code",
   "execution_count": 40,
   "id": "0631d54b",
   "metadata": {
    "execution": {
     "iopub.execute_input": "2023-08-11T10:34:00.325530Z",
     "iopub.status.busy": "2023-08-11T10:34:00.325185Z",
     "iopub.status.idle": "2023-08-11T10:34:00.332712Z",
     "shell.execute_reply": "2023-08-11T10:34:00.331545Z"
    },
    "papermill": {
     "duration": 0.04057,
     "end_time": "2023-08-11T10:34:00.335051",
     "exception": false,
     "start_time": "2023-08-11T10:34:00.294481",
     "status": "completed"
    },
    "tags": []
   },
   "outputs": [
    {
     "data": {
      "text/plain": [
       "80.6"
      ]
     },
     "execution_count": 40,
     "metadata": {},
     "output_type": "execute_result"
    }
   ],
   "source": [
    "# max healthy people  BMI \n",
    "df_0['BMI'].max()"
   ]
  },
  {
   "cell_type": "code",
   "execution_count": 41,
   "id": "547dea4f",
   "metadata": {
    "execution": {
     "iopub.execute_input": "2023-08-11T10:34:00.395737Z",
     "iopub.status.busy": "2023-08-11T10:34:00.395349Z",
     "iopub.status.idle": "2023-08-11T10:34:00.403782Z",
     "shell.execute_reply": "2023-08-11T10:34:00.402181Z"
    },
    "papermill": {
     "duration": 0.040835,
     "end_time": "2023-08-11T10:34:00.406113",
     "exception": false,
     "start_time": "2023-08-11T10:34:00.365278",
     "status": "completed"
    },
    "tags": []
   },
   "outputs": [
    {
     "data": {
      "text/plain": [
       "35.270378151260495"
      ]
     },
     "execution_count": 41,
     "metadata": {},
     "output_type": "execute_result"
    }
   ],
   "source": [
    "# average healthy people  BMI \n",
    "df_1['BMI'].mean()"
   ]
  },
  {
   "cell_type": "code",
   "execution_count": 42,
   "id": "e54d2832",
   "metadata": {
    "execution": {
     "iopub.execute_input": "2023-08-11T10:34:00.466575Z",
     "iopub.status.busy": "2023-08-11T10:34:00.466234Z",
     "iopub.status.idle": "2023-08-11T10:34:00.472038Z",
     "shell.execute_reply": "2023-08-11T10:34:00.471136Z"
    },
    "papermill": {
     "duration": 0.038755,
     "end_time": "2023-08-11T10:34:00.474405",
     "exception": false,
     "start_time": "2023-08-11T10:34:00.435650",
     "status": "completed"
    },
    "tags": []
   },
   "outputs": [
    {
     "data": {
      "text/plain": [
       "67.1"
      ]
     },
     "execution_count": 42,
     "metadata": {},
     "output_type": "execute_result"
    }
   ],
   "source": [
    "# max healthy people  BMI \n",
    "df_1['BMI'].max()"
   ]
  },
  {
   "cell_type": "code",
   "execution_count": 43,
   "id": "f1ef026b",
   "metadata": {
    "execution": {
     "iopub.execute_input": "2023-08-11T10:34:00.650531Z",
     "iopub.status.busy": "2023-08-11T10:34:00.650153Z",
     "iopub.status.idle": "2023-08-11T10:34:00.661134Z",
     "shell.execute_reply": "2023-08-11T10:34:00.660265Z"
    },
    "papermill": {
     "duration": 0.042073,
     "end_time": "2023-08-11T10:34:00.663029",
     "exception": false,
     "start_time": "2023-08-11T10:34:00.620956",
     "status": "completed"
    },
    "tags": []
   },
   "outputs": [
    {
     "data": {
      "text/plain": [
       "Glucose                     0.460644\n",
       "BMI                         0.280928\n",
       "Age                         0.237050\n",
       "Pregnancies                 0.223796\n",
       "DiabetesPedigreeFunction    0.160664\n",
       "Insulin                     0.123646\n",
       "SkinThickness               0.075603\n",
       "BloodPressure               0.072900\n",
       "Name: Outcome, dtype: float64"
      ]
     },
     "execution_count": 43,
     "metadata": {},
     "output_type": "execute_result"
    }
   ],
   "source": [
    "#to compare  correlation between a target  and other features in absolute \n",
    "correlations = df.corr()['Outcome'].drop('Outcome')\n",
    "sorted_correlations = correlations.abs().sort_values(ascending=False)\n",
    "sorted_correlations"
   ]
  },
  {
   "cell_type": "code",
   "execution_count": 44,
   "id": "0141ab47",
   "metadata": {
    "execution": {
     "iopub.execute_input": "2023-08-11T10:34:00.724781Z",
     "iopub.status.busy": "2023-08-11T10:34:00.724413Z",
     "iopub.status.idle": "2023-08-11T10:34:00.898458Z",
     "shell.execute_reply": "2023-08-11T10:34:00.897227Z"
    },
    "papermill": {
     "duration": 0.208559,
     "end_time": "2023-08-11T10:34:00.901052",
     "exception": false,
     "start_time": "2023-08-11T10:34:00.692493",
     "status": "completed"
    },
    "tags": []
   },
   "outputs": [
    {
     "data": {
      "image/png": "[encoded data removed]",
      "text/plain": [
       "<Figure size 640x480 with 1 Axes>"
      ]
     },
     "metadata": {},
     "output_type": "display_data"
    }
   ],
   "source": [
    "# show bar to compare correlation between a target and other features in absolute \n",
    "sns.barplot(x=sorted_correlations.index, y=sorted_correlations)\n",
    "plt.xticks(rotation=90)\n",
    "plt.xlabel('Features')\n",
    "plt.ylabel('Absolute Correlation')\n",
    "plt.show()"
   ]
  },
  {
   "cell_type": "markdown",
   "id": "de6d407c",
   "metadata": {
    "papermill": {
     "duration": 0.029795,
     "end_time": "2023-08-11T10:34:00.965780",
     "exception": false,
     "start_time": "2023-08-11T10:34:00.935985",
     "status": "completed"
    },
    "tags": []
   },
   "source": [
    "###### We will train the model on the most important Features"
   ]
  },
  {
   "cell_type": "code",
   "execution_count": 45,
   "id": "4857b5ac",
   "metadata": {
    "execution": {
     "iopub.execute_input": "2023-08-11T10:34:01.103242Z",
     "iopub.status.busy": "2023-08-11T10:34:01.101968Z",
     "iopub.status.idle": "2023-08-11T10:34:01.110956Z",
     "shell.execute_reply": "2023-08-11T10:34:01.109143Z"
    },
    "papermill": {
     "duration": 0.043452,
     "end_time": "2023-08-11T10:34:01.113730",
     "exception": false,
     "start_time": "2023-08-11T10:34:01.070278",
     "status": "completed"
    },
    "tags": []
   },
   "outputs": [
    {
     "data": {
      "text/plain": [
       "Glucose                     0.460644\n",
       "BMI                         0.280928\n",
       "Age                         0.237050\n",
       "Pregnancies                 0.223796\n",
       "DiabetesPedigreeFunction    0.160664\n",
       "Insulin                     0.123646\n",
       "Name: Outcome, dtype: float64"
      ]
     },
     "execution_count": 45,
     "metadata": {},
     "output_type": "execute_result"
    }
   ],
   "source": [
    "df_corr = sorted_correlations[:6]\n",
    "df_corr"
   ]
  },
  {
   "cell_type": "code",
   "execution_count": 46,
   "id": "77e71f6e",
   "metadata": {
    "execution": {
     "iopub.execute_input": "2023-08-11T10:34:01.177185Z",
     "iopub.status.busy": "2023-08-11T10:34:01.176772Z",
     "iopub.status.idle": "2023-08-11T10:34:01.194694Z",
     "shell.execute_reply": "2023-08-11T10:34:01.193028Z"
    },
    "papermill": {
     "duration": 0.052718,
     "end_time": "2023-08-11T10:34:01.197328",
     "exception": false,
     "start_time": "2023-08-11T10:34:01.144610",
     "status": "completed"
    },
    "tags": []
   },
   "outputs": [
    {
     "data": {
      "text/html": [
       "<div>\n",
       "<style scoped>\n",
       "    .dataframe tbody tr th:only-of-type {\n",
       "        vertical-align: middle;\n",
       "    }\n",
       "\n",
       "    .dataframe tbody tr th {\n",
       "        vertical-align: top;\n",
       "    }\n",
       "\n",
       "    .dataframe thead th {\n",
       "        text-align: right;\n",
       "    }\n",
       "</style>\n",
       "<table border=\"1\" class=\"dataframe\">\n",
       "  <thead>\n",
       "    <tr style=\"text-align: right;\">\n",
       "      <th></th>\n",
       "      <th>Glucose</th>\n",
       "      <th>BMI</th>\n",
       "      <th>Age</th>\n",
       "      <th>Pregnancies</th>\n",
       "      <th>DiabetesPedigreeFunction</th>\n",
       "      <th>Outcome</th>\n",
       "    </tr>\n",
       "  </thead>\n",
       "  <tbody>\n",
       "    <tr>\n",
       "      <th>0</th>\n",
       "      <td>148</td>\n",
       "      <td>33.6</td>\n",
       "      <td>50</td>\n",
       "      <td>6</td>\n",
       "      <td>0.627</td>\n",
       "      <td>1</td>\n",
       "    </tr>\n",
       "    <tr>\n",
       "      <th>1</th>\n",
       "      <td>85</td>\n",
       "      <td>26.6</td>\n",
       "      <td>31</td>\n",
       "      <td>1</td>\n",
       "      <td>0.351</td>\n",
       "      <td>0</td>\n",
       "    </tr>\n",
       "    <tr>\n",
       "      <th>2</th>\n",
       "      <td>183</td>\n",
       "      <td>23.3</td>\n",
       "      <td>32</td>\n",
       "      <td>8</td>\n",
       "      <td>0.672</td>\n",
       "      <td>1</td>\n",
       "    </tr>\n",
       "    <tr>\n",
       "      <th>3</th>\n",
       "      <td>89</td>\n",
       "      <td>28.1</td>\n",
       "      <td>21</td>\n",
       "      <td>1</td>\n",
       "      <td>0.167</td>\n",
       "      <td>0</td>\n",
       "    </tr>\n",
       "    <tr>\n",
       "      <th>4</th>\n",
       "      <td>137</td>\n",
       "      <td>43.1</td>\n",
       "      <td>33</td>\n",
       "      <td>0</td>\n",
       "      <td>2.288</td>\n",
       "      <td>1</td>\n",
       "    </tr>\n",
       "    <tr>\n",
       "      <th>...</th>\n",
       "      <td>...</td>\n",
       "      <td>...</td>\n",
       "      <td>...</td>\n",
       "      <td>...</td>\n",
       "      <td>...</td>\n",
       "      <td>...</td>\n",
       "    </tr>\n",
       "    <tr>\n",
       "      <th>2763</th>\n",
       "      <td>75</td>\n",
       "      <td>29.7</td>\n",
       "      <td>33</td>\n",
       "      <td>2</td>\n",
       "      <td>0.370</td>\n",
       "      <td>0</td>\n",
       "    </tr>\n",
       "    <tr>\n",
       "      <th>2764</th>\n",
       "      <td>179</td>\n",
       "      <td>32.7</td>\n",
       "      <td>36</td>\n",
       "      <td>8</td>\n",
       "      <td>0.719</td>\n",
       "      <td>1</td>\n",
       "    </tr>\n",
       "    <tr>\n",
       "      <th>2765</th>\n",
       "      <td>85</td>\n",
       "      <td>31.2</td>\n",
       "      <td>42</td>\n",
       "      <td>6</td>\n",
       "      <td>0.382</td>\n",
       "      <td>0</td>\n",
       "    </tr>\n",
       "    <tr>\n",
       "      <th>2766</th>\n",
       "      <td>129</td>\n",
       "      <td>67.1</td>\n",
       "      <td>26</td>\n",
       "      <td>0</td>\n",
       "      <td>0.319</td>\n",
       "      <td>1</td>\n",
       "    </tr>\n",
       "    <tr>\n",
       "      <th>2767</th>\n",
       "      <td>81</td>\n",
       "      <td>30.1</td>\n",
       "      <td>25</td>\n",
       "      <td>2</td>\n",
       "      <td>0.547</td>\n",
       "      <td>0</td>\n",
       "    </tr>\n",
       "  </tbody>\n",
       "</table>\n",
       "<p>2768 rows × 6 columns</p>\n",
       "</div>"
      ],
      "text/plain": [
       "      Glucose   BMI  Age  Pregnancies  DiabetesPedigreeFunction  Outcome\n",
       "0         148  33.6   50            6                     0.627        1\n",
       "1          85  26.6   31            1                     0.351        0\n",
       "2         183  23.3   32            8                     0.672        1\n",
       "3          89  28.1   21            1                     0.167        0\n",
       "4         137  43.1   33            0                     2.288        1\n",
       "...       ...   ...  ...          ...                       ...      ...\n",
       "2763       75  29.7   33            2                     0.370        0\n",
       "2764      179  32.7   36            8                     0.719        1\n",
       "2765       85  31.2   42            6                     0.382        0\n",
       "2766      129  67.1   26            0                     0.319        1\n",
       "2767       81  30.1   25            2                     0.547        0\n",
       "\n",
       "[2768 rows x 6 columns]"
      ]
     },
     "execution_count": 46,
     "metadata": {},
     "output_type": "execute_result"
    }
   ],
   "source": [
    "df_corr=df[['Glucose',\"BMI\",\"Age\",'Pregnancies','DiabetesPedigreeFunction',\"Outcome\"]]\n",
    "df_corr"
   ]
  },
  {
   "cell_type": "markdown",
   "id": "a696cece",
   "metadata": {
    "papermill": {
     "duration": 0.029494,
     "end_time": "2023-08-11T10:34:01.317637",
     "exception": false,
     "start_time": "2023-08-11T10:34:01.288143",
     "status": "completed"
    },
    "tags": []
   },
   "source": [
    "###### drop Outlier noise data"
   ]
  },
  {
   "cell_type": "code",
   "execution_count": 47,
   "id": "ded611a2",
   "metadata": {
    "execution": {
     "iopub.execute_input": "2023-08-11T10:34:01.378212Z",
     "iopub.status.busy": "2023-08-11T10:34:01.377896Z",
     "iopub.status.idle": "2023-08-11T10:34:01.389222Z",
     "shell.execute_reply": "2023-08-11T10:34:01.387777Z"
    },
    "papermill": {
     "duration": 0.044348,
     "end_time": "2023-08-11T10:34:01.391601",
     "exception": false,
     "start_time": "2023-08-11T10:34:01.347253",
     "status": "completed"
    },
    "tags": []
   },
   "outputs": [],
   "source": [
    "# Calculate the interquartile range (IQR) for each column\n",
    "Q1 = df_corr.quantile(0.25)\n",
    "Q3 = df_corr.quantile(0.75)\n",
    "IQR = Q3 - Q1\n",
    "# Identify  dataoutliers\n",
    "outliers = df_corr[((df_corr < (Q1 - 1.5 * IQR)) | (df_corr > (Q3 + 1.5 * IQR))).any(axis=1)]\n",
    "# drop  the outliers from the data\n",
    "train_clean = df_corr.drop(outliers.index )"
   ]
  },
  {
   "cell_type": "code",
   "execution_count": 48,
   "id": "df467ee1",
   "metadata": {
    "execution": {
     "iopub.execute_input": "2023-08-11T10:34:01.454843Z",
     "iopub.status.busy": "2023-08-11T10:34:01.454467Z",
     "iopub.status.idle": "2023-08-11T10:34:01.469496Z",
     "shell.execute_reply": "2023-08-11T10:34:01.468543Z"
    },
    "papermill": {
     "duration": 0.048635,
     "end_time": "2023-08-11T10:34:01.471167",
     "exception": false,
     "start_time": "2023-08-11T10:34:01.422532",
     "status": "completed"
    },
    "tags": []
   },
   "outputs": [
    {
     "data": {
      "text/html": [
       "<div>\n",
       "<style scoped>\n",
       "    .dataframe tbody tr th:only-of-type {\n",
       "        vertical-align: middle;\n",
       "    }\n",
       "\n",
       "    .dataframe tbody tr th {\n",
       "        vertical-align: top;\n",
       "    }\n",
       "\n",
       "    .dataframe thead th {\n",
       "        text-align: right;\n",
       "    }\n",
       "</style>\n",
       "<table border=\"1\" class=\"dataframe\">\n",
       "  <thead>\n",
       "    <tr style=\"text-align: right;\">\n",
       "      <th></th>\n",
       "      <th>Glucose</th>\n",
       "      <th>BMI</th>\n",
       "      <th>Age</th>\n",
       "      <th>Pregnancies</th>\n",
       "      <th>DiabetesPedigreeFunction</th>\n",
       "      <th>Outcome</th>\n",
       "    </tr>\n",
       "  </thead>\n",
       "  <tbody>\n",
       "    <tr>\n",
       "      <th>0</th>\n",
       "      <td>148</td>\n",
       "      <td>33.6</td>\n",
       "      <td>50</td>\n",
       "      <td>6</td>\n",
       "      <td>0.627</td>\n",
       "      <td>1</td>\n",
       "    </tr>\n",
       "    <tr>\n",
       "      <th>1</th>\n",
       "      <td>85</td>\n",
       "      <td>26.6</td>\n",
       "      <td>31</td>\n",
       "      <td>1</td>\n",
       "      <td>0.351</td>\n",
       "      <td>0</td>\n",
       "    </tr>\n",
       "    <tr>\n",
       "      <th>2</th>\n",
       "      <td>183</td>\n",
       "      <td>23.3</td>\n",
       "      <td>32</td>\n",
       "      <td>8</td>\n",
       "      <td>0.672</td>\n",
       "      <td>1</td>\n",
       "    </tr>\n",
       "    <tr>\n",
       "      <th>3</th>\n",
       "      <td>89</td>\n",
       "      <td>28.1</td>\n",
       "      <td>21</td>\n",
       "      <td>1</td>\n",
       "      <td>0.167</td>\n",
       "      <td>0</td>\n",
       "    </tr>\n",
       "    <tr>\n",
       "      <th>5</th>\n",
       "      <td>116</td>\n",
       "      <td>25.6</td>\n",
       "      <td>30</td>\n",
       "      <td>5</td>\n",
       "      <td>0.201</td>\n",
       "      <td>0</td>\n",
       "    </tr>\n",
       "    <tr>\n",
       "      <th>...</th>\n",
       "      <td>...</td>\n",
       "      <td>...</td>\n",
       "      <td>...</td>\n",
       "      <td>...</td>\n",
       "      <td>...</td>\n",
       "      <td>...</td>\n",
       "    </tr>\n",
       "    <tr>\n",
       "      <th>2762</th>\n",
       "      <td>79</td>\n",
       "      <td>43.5</td>\n",
       "      <td>23</td>\n",
       "      <td>1</td>\n",
       "      <td>0.678</td>\n",
       "      <td>0</td>\n",
       "    </tr>\n",
       "    <tr>\n",
       "      <th>2763</th>\n",
       "      <td>75</td>\n",
       "      <td>29.7</td>\n",
       "      <td>33</td>\n",
       "      <td>2</td>\n",
       "      <td>0.370</td>\n",
       "      <td>0</td>\n",
       "    </tr>\n",
       "    <tr>\n",
       "      <th>2764</th>\n",
       "      <td>179</td>\n",
       "      <td>32.7</td>\n",
       "      <td>36</td>\n",
       "      <td>8</td>\n",
       "      <td>0.719</td>\n",
       "      <td>1</td>\n",
       "    </tr>\n",
       "    <tr>\n",
       "      <th>2765</th>\n",
       "      <td>85</td>\n",
       "      <td>31.2</td>\n",
       "      <td>42</td>\n",
       "      <td>6</td>\n",
       "      <td>0.382</td>\n",
       "      <td>0</td>\n",
       "    </tr>\n",
       "    <tr>\n",
       "      <th>2767</th>\n",
       "      <td>81</td>\n",
       "      <td>30.1</td>\n",
       "      <td>25</td>\n",
       "      <td>2</td>\n",
       "      <td>0.547</td>\n",
       "      <td>0</td>\n",
       "    </tr>\n",
       "  </tbody>\n",
       "</table>\n",
       "<p>2508 rows × 6 columns</p>\n",
       "</div>"
      ],
      "text/plain": [
       "      Glucose   BMI  Age  Pregnancies  DiabetesPedigreeFunction  Outcome\n",
       "0         148  33.6   50            6                     0.627        1\n",
       "1          85  26.6   31            1                     0.351        0\n",
       "2         183  23.3   32            8                     0.672        1\n",
       "3          89  28.1   21            1                     0.167        0\n",
       "5         116  25.6   30            5                     0.201        0\n",
       "...       ...   ...  ...          ...                       ...      ...\n",
       "2762       79  43.5   23            1                     0.678        0\n",
       "2763       75  29.7   33            2                     0.370        0\n",
       "2764      179  32.7   36            8                     0.719        1\n",
       "2765       85  31.2   42            6                     0.382        0\n",
       "2767       81  30.1   25            2                     0.547        0\n",
       "\n",
       "[2508 rows x 6 columns]"
      ]
     },
     "execution_count": 48,
     "metadata": {},
     "output_type": "execute_result"
    }
   ],
   "source": [
    "train_clean"
   ]
  },
  {
   "cell_type": "code",
   "execution_count": 49,
   "id": "b25559fe",
   "metadata": {
    "execution": {
     "iopub.execute_input": "2023-08-11T10:34:01.533621Z",
     "iopub.status.busy": "2023-08-11T10:34:01.533196Z",
     "iopub.status.idle": "2023-08-11T10:34:01.945991Z",
     "shell.execute_reply": "2023-08-11T10:34:01.944776Z"
    },
    "papermill": {
     "duration": 0.446317,
     "end_time": "2023-08-11T10:34:01.947836",
     "exception": false,
     "start_time": "2023-08-11T10:34:01.501519",
     "status": "completed"
    },
    "tags": []
   },
   "outputs": [
    {
     "data": {
      "text/plain": [
       "Text(0.5, 1.0, 'Correlation data ')"
      ]
     },
     "execution_count": 49,
     "metadata": {},
     "output_type": "execute_result"
    },
    {
     "data": {
      "image/png": "[encoded data removed]",
      "text/plain": [
       "<Figure size 1500x1500 with 2 Axes>"
      ]
     },
     "metadata": {},
     "output_type": "display_data"
    }
   ],
   "source": [
    "#visualizing the correlation between the variables in the diabetes \n",
    "plt.figure(figsize=(15,15))\n",
    "sns.heatmap (np.abs(train_clean.corr()), annot = True  )\n",
    "plt.title (\"Correlation data \" , fontsize = 12 )\n"
   ]
  },
  {
   "cell_type": "code",
   "execution_count": 50,
   "id": "84edd77b",
   "metadata": {
    "execution": {
     "iopub.execute_input": "2023-08-11T10:34:02.076029Z",
     "iopub.status.busy": "2023-08-11T10:34:02.075384Z",
     "iopub.status.idle": "2023-08-11T10:34:02.081509Z",
     "shell.execute_reply": "2023-08-11T10:34:02.080294Z"
    },
    "papermill": {
     "duration": 0.042625,
     "end_time": "2023-08-11T10:34:02.085079",
     "exception": false,
     "start_time": "2023-08-11T10:34:02.042454",
     "status": "completed"
    },
    "tags": []
   },
   "outputs": [],
   "source": [
    "X= train_clean.drop(columns=['Outcome']) # data\n",
    "y= train_clean['Outcome']  #target"
   ]
  },
  {
   "cell_type": "code",
   "execution_count": 51,
   "id": "3c09f1ae",
   "metadata": {
    "execution": {
     "iopub.execute_input": "2023-08-11T10:34:02.210666Z",
     "iopub.status.busy": "2023-08-11T10:34:02.209325Z",
     "iopub.status.idle": "2023-08-11T10:34:02.218843Z",
     "shell.execute_reply": "2023-08-11T10:34:02.217980Z"
    },
    "papermill": {
     "duration": 0.043642,
     "end_time": "2023-08-11T10:34:02.221081",
     "exception": false,
     "start_time": "2023-08-11T10:34:02.177439",
     "status": "completed"
    },
    "tags": []
   },
   "outputs": [],
   "source": [
    "from sklearn.preprocessing import StandardScaler\n",
    "Stand = StandardScaler()\n",
    "x = pd.DataFrame(Stand.fit_transform(X) , columns=X.columns)"
   ]
  },
  {
   "cell_type": "code",
   "execution_count": 52,
   "id": "35c95231",
   "metadata": {
    "execution": {
     "iopub.execute_input": "2023-08-11T10:34:02.286518Z",
     "iopub.status.busy": "2023-08-11T10:34:02.285575Z",
     "iopub.status.idle": "2023-08-11T10:34:02.298072Z",
     "shell.execute_reply": "2023-08-11T10:34:02.297383Z"
    },
    "papermill": {
     "duration": 0.048434,
     "end_time": "2023-08-11T10:34:02.300830",
     "exception": false,
     "start_time": "2023-08-11T10:34:02.252396",
     "status": "completed"
    },
    "tags": []
   },
   "outputs": [
    {
     "data": {
      "text/html": [
       "<div>\n",
       "<style scoped>\n",
       "    .dataframe tbody tr th:only-of-type {\n",
       "        vertical-align: middle;\n",
       "    }\n",
       "\n",
       "    .dataframe tbody tr th {\n",
       "        vertical-align: top;\n",
       "    }\n",
       "\n",
       "    .dataframe thead th {\n",
       "        text-align: right;\n",
       "    }\n",
       "</style>\n",
       "<table border=\"1\" class=\"dataframe\">\n",
       "  <thead>\n",
       "    <tr style=\"text-align: right;\">\n",
       "      <th></th>\n",
       "      <th>Glucose</th>\n",
       "      <th>BMI</th>\n",
       "      <th>Age</th>\n",
       "      <th>Pregnancies</th>\n",
       "      <th>DiabetesPedigreeFunction</th>\n",
       "    </tr>\n",
       "  </thead>\n",
       "  <tbody>\n",
       "    <tr>\n",
       "      <th>0</th>\n",
       "      <td>0.906456</td>\n",
       "      <td>0.211912</td>\n",
       "      <td>1.657640</td>\n",
       "      <td>0.715276</td>\n",
       "      <td>0.759362</td>\n",
       "    </tr>\n",
       "    <tr>\n",
       "      <th>1</th>\n",
       "      <td>-1.203684</td>\n",
       "      <td>-0.863793</td>\n",
       "      <td>-0.129178</td>\n",
       "      <td>-0.831200</td>\n",
       "      <td>-0.326809</td>\n",
       "    </tr>\n",
       "    <tr>\n",
       "      <th>2</th>\n",
       "      <td>2.078756</td>\n",
       "      <td>-1.370911</td>\n",
       "      <td>-0.035135</td>\n",
       "      <td>1.333866</td>\n",
       "      <td>0.936455</td>\n",
       "    </tr>\n",
       "    <tr>\n",
       "      <th>3</th>\n",
       "      <td>-1.069707</td>\n",
       "      <td>-0.633285</td>\n",
       "      <td>-1.069609</td>\n",
       "      <td>-0.831200</td>\n",
       "      <td>-1.050923</td>\n",
       "    </tr>\n",
       "    <tr>\n",
       "      <th>4</th>\n",
       "      <td>-0.165361</td>\n",
       "      <td>-1.017465</td>\n",
       "      <td>-0.223221</td>\n",
       "      <td>0.405981</td>\n",
       "      <td>-0.917120</td>\n",
       "    </tr>\n",
       "    <tr>\n",
       "      <th>...</th>\n",
       "      <td>...</td>\n",
       "      <td>...</td>\n",
       "      <td>...</td>\n",
       "      <td>...</td>\n",
       "      <td>...</td>\n",
       "    </tr>\n",
       "    <tr>\n",
       "      <th>2503</th>\n",
       "      <td>-1.404650</td>\n",
       "      <td>1.733266</td>\n",
       "      <td>-0.881523</td>\n",
       "      <td>-0.831200</td>\n",
       "      <td>0.960067</td>\n",
       "    </tr>\n",
       "    <tr>\n",
       "      <th>2504</th>\n",
       "      <td>-1.538627</td>\n",
       "      <td>-0.387409</td>\n",
       "      <td>0.058908</td>\n",
       "      <td>-0.521905</td>\n",
       "      <td>-0.252037</td>\n",
       "    </tr>\n",
       "    <tr>\n",
       "      <th>2505</th>\n",
       "      <td>1.944779</td>\n",
       "      <td>0.073607</td>\n",
       "      <td>0.341037</td>\n",
       "      <td>1.333866</td>\n",
       "      <td>1.121419</td>\n",
       "    </tr>\n",
       "    <tr>\n",
       "      <th>2506</th>\n",
       "      <td>-1.203684</td>\n",
       "      <td>-0.156901</td>\n",
       "      <td>0.905296</td>\n",
       "      <td>0.715276</td>\n",
       "      <td>-0.204812</td>\n",
       "    </tr>\n",
       "    <tr>\n",
       "      <th>2507</th>\n",
       "      <td>-1.337662</td>\n",
       "      <td>-0.325941</td>\n",
       "      <td>-0.693436</td>\n",
       "      <td>-0.521905</td>\n",
       "      <td>0.444529</td>\n",
       "    </tr>\n",
       "  </tbody>\n",
       "</table>\n",
       "<p>2508 rows × 5 columns</p>\n",
       "</div>"
      ],
      "text/plain": [
       "       Glucose       BMI       Age  Pregnancies  DiabetesPedigreeFunction\n",
       "0     0.906456  0.211912  1.657640     0.715276                  0.759362\n",
       "1    -1.203684 -0.863793 -0.129178    -0.831200                 -0.326809\n",
       "2     2.078756 -1.370911 -0.035135     1.333866                  0.936455\n",
       "3    -1.069707 -0.633285 -1.069609    -0.831200                 -1.050923\n",
       "4    -0.165361 -1.017465 -0.223221     0.405981                 -0.917120\n",
       "...        ...       ...       ...          ...                       ...\n",
       "2503 -1.404650  1.733266 -0.881523    -0.831200                  0.960067\n",
       "2504 -1.538627 -0.387409  0.058908    -0.521905                 -0.252037\n",
       "2505  1.944779  0.073607  0.341037     1.333866                  1.121419\n",
       "2506 -1.203684 -0.156901  0.905296     0.715276                 -0.204812\n",
       "2507 -1.337662 -0.325941 -0.693436    -0.521905                  0.444529\n",
       "\n",
       "[2508 rows x 5 columns]"
      ]
     },
     "execution_count": 52,
     "metadata": {},
     "output_type": "execute_result"
    }
   ],
   "source": [
    "x"
   ]
  },
  {
   "cell_type": "code",
   "execution_count": 53,
   "id": "4802895a",
   "metadata": {
    "papermill": {
     "duration": 0.031707,
     "end_time": "2023-08-11T10:34:02.364107",
     "exception": false,
     "start_time": "2023-08-11T10:34:02.332400",
     "status": "completed"
    },
    "tags": []
   },
   "outputs": [],
   "source": [
    "from sklearn.neighbors import KNeighborsClassifier\n",
    "from sklearn.tree import DecisionTreeClassifier\n",
    "from sklearn.svm import SVC \n",
    "from sklearn.linear_model import LogisticRegression\n",
    "from sklearn.ensemble import RandomForestClassifier"
   ]
  },
  {
   "cell_type": "code",
   "execution_count": 54,
   "id": "bb28fb9d",
   "metadata": {
    "execution": {
     "iopub.execute_input": "2023-08-11T10:34:02.426574Z",
     "iopub.status.busy": "2023-08-11T10:34:02.426226Z",
     "iopub.status.idle": "2023-08-11T10:34:02.432581Z",
     "shell.execute_reply": "2023-08-11T10:34:02.431483Z"
    },
    "papermill": {
     "duration": 0.039467,
     "end_time": "2023-08-11T10:34:02.434366",
     "exception": false,
     "start_time": "2023-08-11T10:34:02.394899",
     "status": "completed"
    },
    "tags": []
   },
   "outputs": [],
   "source": [
    "#create List models \n",
    "models = []\n",
    "models.append(('KNN', KNeighborsClassifier()))\n",
    "models.append(('SVM', SVC()))\n",
    "models.append(('DecisionTreeClassifier', DecisionTreeClassifier()))\n",
    "models.append(('LogisticRegression', LogisticRegression()))\n",
    "models.append(('RandomForestClassifier', RandomForestClassifier()))"
   ]
  },
  {
   "cell_type": "code",
   "execution_count": 55,
   "id": "f5a3153e",
   "metadata": {
    "execution": {
     "iopub.execute_input": "2023-08-11T10:34:02.498846Z",
     "iopub.status.busy": "2023-08-11T10:34:02.498201Z",
     "iopub.status.idle": "2023-08-11T10:34:08.141208Z",
     "shell.execute_reply": "2023-08-11T10:34:08.139387Z"
    },
    "papermill": {
     "duration": 5.678193,
     "end_time": "2023-08-11T10:34:08.143702",
     "exception": false,
     "start_time": "2023-08-11T10:34:02.465509",
     "status": "completed"
    },
    "tags": []
   },
   "outputs": [
    {
     "name": "stdout",
     "output_type": "stream",
     "text": [
      "KNN : score 0.855 \n",
      "SVM : score 0.817 \n",
      "DecisionTreeClassifier : score 0.876 \n",
      "LogisticRegression : score 0.851 \n",
      "RandomForestClassifier : score 0.880 \n"
     ]
    }
   ],
   "source": [
    "from sklearn.model_selection import train_test_split , cross_val_score,KFold,GridSearchCV\n",
    "# calculate accuracy\n",
    "scoring_=[]\n",
    "name_m=[]\n",
    "for i in range(len(models)):\n",
    "    kfold = KFold(n_splits=10, shuffle=True, random_state=43)\n",
    "    scor = cross_val_score(models[i][1], X, y, cv=kfold, scoring='accuracy')  \n",
    "    scoring_.append(scor)\n",
    "    name_m.append(models[i][0])\n",
    "    print(\"{} : score {:.3f} \".format(models[i][0]  , np.mean(scoring_)  ))"
   ]
  },
  {
   "cell_type": "code",
   "execution_count": 56,
   "id": "18977daf",
   "metadata": {
    "execution": {
     "iopub.execute_input": "2023-08-11T10:34:08.209968Z",
     "iopub.status.busy": "2023-08-11T10:34:08.209548Z",
     "iopub.status.idle": "2023-08-11T10:34:08.484615Z",
     "shell.execute_reply": "2023-08-11T10:34:08.483036Z"
    },
    "papermill": {
     "duration": 0.311907,
     "end_time": "2023-08-11T10:34:08.487419",
     "exception": false,
     "start_time": "2023-08-11T10:34:08.175512",
     "status": "completed"
    },
    "tags": []
   },
   "outputs": [
    {
     "data": {
      "image/png": "[encoded data removed]",
      "text/plain": [
       "<Figure size 1000x600 with 1 Axes>"
      ]
     },
     "metadata": {},
     "output_type": "display_data"
    }
   ],
   "source": [
    "# visualization boxplot Algorithm Accuracy Comparison\n",
    "fig = plt.figure(figsize=(10,6))\n",
    "fig.suptitle('Algorithm Accuracy Comparison')\n",
    "ax = fig.add_subplot(111)\n",
    "plt.boxplot(scoring_)\n",
    "plt.axhline(0.75, color='pink', linestyle='solid')\n",
    "plt.axhline(0.80, color='green', linestyle='solid')\n",
    "plt.axhline(0.85, color='red', linestyle='solid')\n",
    "ax.set_xticklabels(name_m,rotation=70)\n",
    "plt.show()"
   ]
  },
  {
   "cell_type": "code",
   "execution_count": 57,
   "id": "1c9565b2",
   "metadata": {
    "execution": {
     "iopub.execute_input": "2023-08-11T10:34:08.620004Z",
     "iopub.status.busy": "2023-08-11T10:34:08.619628Z",
     "iopub.status.idle": "2023-08-11T10:34:08.628583Z",
     "shell.execute_reply": "2023-08-11T10:34:08.627258Z"
    },
    "papermill": {
     "duration": 0.045319,
     "end_time": "2023-08-11T10:34:08.630461",
     "exception": false,
     "start_time": "2023-08-11T10:34:08.585142",
     "status": "completed"
    },
    "tags": []
   },
   "outputs": [],
   "source": [
    "def confusion_matrix_sh(confusion_matrix, class_labels):\n",
    "    # Normalize the confusion matrix\n",
    "    confusion_matrix_normalized = confusion_matrix.astype('float') / confusion_matrix.sum(axis=1)[:, np.newaxis]\n",
    "    # Set up the figure\n",
    "    plt.figure(figsize=(8, 6))\n",
    "    plt.imshow(confusion_matrix_normalized, interpolation='nearest', cmap=plt.cm.Blues)\n",
    "    plt.title('Confusion Matrix')\n",
    "    plt.colorbar()\n",
    "    tick_marks = np.arange(len(class_labels))\n",
    "    plt.xticks(tick_marks, class_labels, rotation=45)\n",
    "    plt.yticks(tick_marks, class_labels)\n",
    "    # Add labels to each cell\n",
    "    thresh = confusion_matrix_normalized.max() / 2.0\n",
    "    for i, j in np.ndindex(confusion_matrix.shape):\n",
    "        plt.text(j, i, format(confusion_matrix[i, j], 'd'),\n",
    "                 horizontalalignment=\"center\",\n",
    "                 color=\"white\" if confusion_matrix_normalized[i, j] > thresh else \"black\")\n",
    "    # Set axis labels\n",
    "    plt.xlabel('Predicted Class')\n",
    "    plt.ylabel('True Class')\n",
    "    # Show the plot\n",
    "    plt.tight_layout()\n",
    "    plt.show()"
   ]
  },
  {
   "cell_type": "code",
   "execution_count": 58,
   "id": "88275491",
   "metadata": {
    "execution": {
     "iopub.execute_input": "2023-08-11T10:34:08.696296Z",
     "iopub.status.busy": "2023-08-11T10:34:08.695938Z",
     "iopub.status.idle": "2023-08-11T10:34:08.704135Z",
     "shell.execute_reply": "2023-08-11T10:34:08.702784Z"
    },
    "papermill": {
     "duration": 0.044001,
     "end_time": "2023-08-11T10:34:08.706825",
     "exception": false,
     "start_time": "2023-08-11T10:34:08.662824",
     "status": "completed"
    },
    "tags": []
   },
   "outputs": [],
   "source": [
    "# function evaluation \n",
    "def evaluate(model,X,target): \n",
    "    #split the data into training and testing \n",
    "    X_train,X_test ,y_train , y_test=train_test_split(X , target ,test_size=0.25 , random_state=543 )\n",
    "    model.fit(X_train , y_train)  # fit model     \n",
    "    y_pred=model.predict(X_test)\n",
    "    print(\"model: \",model)\n",
    "    # Accuracy\n",
    "    accuracy = accuracy_score(y_test, y_pred)\n",
    "    print(\"Accuracy:\", accuracy)\n",
    "    # Precision\n",
    "    precision = precision_score(y_test, y_pred)\n",
    "    print(\"Precision:\", precision)\n",
    "    # Recall\n",
    "    recall = recall_score(y_test, y_pred)\n",
    "    print(\"Recall:\", recall)\n",
    "    # F1 Score\n",
    "    f1 = f1_score(y_test, y_pred)\n",
    "    print(\"F1 Score:\", f1)\n",
    "    # AUC-ROC\n",
    "    auc_roc = roc_auc_score(y_test, y_pred)\n",
    "    print(\"AUC-ROC:\", auc_roc)\n",
    "    # Confusion Matrix\n",
    "    confusion = confusion_matrix(y_test, y_pred)\n",
    "    print(\"Confusion Matrix:\\n\", confusion)\n",
    "    report = classification_report(y_test, y_pred)\n",
    "    print(report)"
   ]
  },
  {
   "cell_type": "markdown",
   "id": "48398079",
   "metadata": {
    "papermill": {
     "duration": 0.034513,
     "end_time": "2023-08-11T10:34:09.036237",
     "exception": false,
     "start_time": "2023-08-11T10:34:09.001724",
     "status": "completed"
    },
    "tags": []
   },
   "source": [
    "## K Nearest Neighbour predicted"
   ]
  },
  {
   "cell_type": "markdown",
   "id": "7c74e8ba",
   "metadata": {
    "papermill": {
     "duration": 0.032788,
     "end_time": "2023-08-11T10:34:09.102454",
     "exception": false,
     "start_time": "2023-08-11T10:34:09.069666",
     "status": "completed"
    },
    "tags": []
   },
   "source": [
    "It can be said that the Neighbors Nearest-k ,It is the simplest machine learning algorithm composed Build the model only from storing the training data set. To make a forecast for a new point in a group data, the algorithm finds the closest data points in the training data set"
   ]
  },
  {
   "cell_type": "markdown",
   "id": "b821c1e3",
   "metadata": {
    "papermill": {
     "duration": 0.032873,
     "end_time": "2023-08-11T10:34:09.168138",
     "exception": false,
     "start_time": "2023-08-11T10:34:09.135265",
     "status": "completed"
    },
    "tags": []
   },
   "source": [
    "First, let's see if we can confirm the relationship between model complexity and accuracy:"
   ]
  },
  {
   "cell_type": "code",
   "execution_count": 59,
   "id": "d91700a3",
   "metadata": {
    "execution": {
     "iopub.execute_input": "2023-08-11T10:34:09.235371Z",
     "iopub.status.busy": "2023-08-11T10:34:09.234992Z",
     "iopub.status.idle": "2023-08-11T10:34:09.242215Z",
     "shell.execute_reply": "2023-08-11T10:34:09.240846Z"
    },
    "papermill": {
     "duration": 0.043259,
     "end_time": "2023-08-11T10:34:09.244510",
     "exception": false,
     "start_time": "2023-08-11T10:34:09.201251",
     "status": "completed"
    },
    "tags": []
   },
   "outputs": [],
   "source": [
    "#split data into train ,split\n",
    "from sklearn.model_selection import train_test_split\n",
    "X_train, X_test, y_train, y_test = train_test_split(X,y , random_state=543)"
   ]
  },
  {
   "cell_type": "code",
   "execution_count": 60,
   "id": "641c684d",
   "metadata": {
    "execution": {
     "iopub.execute_input": "2023-08-11T10:34:09.374593Z",
     "iopub.status.busy": "2023-08-11T10:34:09.374250Z",
     "iopub.status.idle": "2023-08-11T10:34:10.004204Z",
     "shell.execute_reply": "2023-08-11T10:34:10.002711Z"
    },
    "papermill": {
     "duration": 0.665193,
     "end_time": "2023-08-11T10:34:10.006609",
     "exception": false,
     "start_time": "2023-08-11T10:34:09.341416",
     "status": "completed"
    },
    "tags": []
   },
   "outputs": [
    {
     "data": {
      "text/plain": [
       "<matplotlib.legend.Legend at 0x18900fbb9d0>"
      ]
     },
     "execution_count": 60,
     "metadata": {},
     "output_type": "execute_result"
    },
    {
     "data": {
      "image/png": "[encoded data removed]",
      "text/plain": [
       "<Figure size 640x480 with 1 Axes>"
      ]
     },
     "metadata": {},
     "output_type": "display_data"
    }
   ],
   "source": [
    "training_accuracy = []\n",
    "test_accuracy = []\n",
    "# try n_neighbors from 1 to 10\n",
    "neighbors_settings = range(1, 11)\n",
    "for n_neighbors in neighbors_settings:\n",
    "    # bulding nodel\n",
    "    knn = KNeighborsClassifier(n_neighbors=n_neighbors)\n",
    "    knn.fit(X_train, y_train)\n",
    "    # record training set accuracy\n",
    "    training_accuracy.append(knn.score(X_train, y_train))\n",
    "    # record test set accuracy\n",
    "    test_accuracy.append(knn.score(X_test, y_test))\n",
    "plt.plot(neighbors_settings, training_accuracy, label=\"training accuracy\")\n",
    "plt.plot(neighbors_settings, test_accuracy, label=\"test accuracy\")\n",
    "plt.ylabel(\"Accuracy\")\n",
    "plt.xlabel(\"n_neighbors\")\n",
    "plt.legend()"
   ]
  },
  {
   "cell_type": "code",
   "execution_count": 61,
   "id": "08d8d4dd",
   "metadata": {
    "execution": {
     "iopub.execute_input": "2023-08-11T10:34:10.143987Z",
     "iopub.status.busy": "2023-08-11T10:34:10.143622Z",
     "iopub.status.idle": "2023-08-11T10:34:10.182735Z",
     "shell.execute_reply": "2023-08-11T10:34:10.181673Z"
    },
    "papermill": {
     "duration": 0.077267,
     "end_time": "2023-08-11T10:34:10.185480",
     "exception": false,
     "start_time": "2023-08-11T10:34:10.108213",
     "status": "completed"
    },
    "scrolled": true,
    "tags": []
   },
   "outputs": [
    {
     "name": "stdout",
     "output_type": "stream",
     "text": [
      "model:  KNeighborsClassifier(n_neighbors=2)\n",
      "Accuracy: 0.94896331738437\n",
      "Precision: 0.9943820224719101\n",
      "Recall: 0.8509615384615384\n",
      "F1 Score: 0.917098445595855\n",
      "AUC-ROC: 0.9242874518083347\n",
      "Confusion Matrix:\n",
      " [[418   1]\n",
      " [ 31 177]]\n",
      "              precision    recall  f1-score   support\n",
      "\n",
      "           0       0.93      1.00      0.96       419\n",
      "           1       0.99      0.85      0.92       208\n",
      "\n",
      "    accuracy                           0.95       627\n",
      "   macro avg       0.96      0.92      0.94       627\n",
      "weighted avg       0.95      0.95      0.95       627\n",
      "\n"
     ]
    }
   ],
   "source": [
    "## check   accuracy of the k-nearest neighbors\n",
    "evaluate(KNeighborsClassifier(n_neighbors=2), X,y)"
   ]
  },
  {
   "cell_type": "markdown",
   "id": "e67c6a03",
   "metadata": {
    "papermill": {
     "duration": 0.032541,
     "end_time": "2023-08-11T10:34:14.258383",
     "exception": false,
     "start_time": "2023-08-11T10:34:14.225842",
     "status": "completed"
    },
    "tags": []
   },
   "source": [
    "## LogisticRegression for predicting diabetes"
   ]
  },
  {
   "cell_type": "code",
   "execution_count": 62,
   "id": "2b1753a2",
   "metadata": {
    "execution": {
     "iopub.execute_input": "2023-08-11T10:34:14.328095Z",
     "iopub.status.busy": "2023-08-11T10:34:14.327691Z",
     "iopub.status.idle": "2023-08-11T10:34:14.365114Z",
     "shell.execute_reply": "2023-08-11T10:34:14.363565Z"
    },
    "papermill": {
     "duration": 0.074847,
     "end_time": "2023-08-11T10:34:14.367772",
     "exception": false,
     "start_time": "2023-08-11T10:34:14.292925",
     "status": "completed"
    },
    "scrolled": true,
    "tags": []
   },
   "outputs": [
    {
     "name": "stdout",
     "output_type": "stream",
     "text": [
      "model:  LogisticRegression()\n",
      "Accuracy: 0.7767145135566188\n",
      "Precision: 0.7236842105263158\n",
      "Recall: 0.5288461538461539\n",
      "F1 Score: 0.6111111111111112\n",
      "AUC-ROC: 0.7143037451808335\n",
      "Confusion Matrix:\n",
      " [[377  42]\n",
      " [ 98 110]]\n",
      "              precision    recall  f1-score   support\n",
      "\n",
      "           0       0.79      0.90      0.84       419\n",
      "           1       0.72      0.53      0.61       208\n",
      "\n",
      "    accuracy                           0.78       627\n",
      "   macro avg       0.76      0.71      0.73       627\n",
      "weighted avg       0.77      0.78      0.77       627\n",
      "\n"
     ]
    }
   ],
   "source": [
    "## We check   accuracy of the Logistic Regression\n",
    "evaluate(LogisticRegression(), X,y)"
   ]
  },
  {
   "cell_type": "markdown",
   "id": "3178e1c9",
   "metadata": {
    "papermill": {
     "duration": 0.032726,
     "end_time": "2023-08-11T10:34:10.317159",
     "exception": false,
     "start_time": "2023-08-11T10:34:10.284433",
     "status": "completed"
    },
    "tags": []
   },
   "source": [
    "## support vector machine"
   ]
  },
  {
   "cell_type": "code",
   "execution_count": 63,
   "id": "fcbbfac4",
   "metadata": {
    "execution": {
     "iopub.execute_input": "2023-08-11T10:34:10.385950Z",
     "iopub.status.busy": "2023-08-11T10:34:10.385578Z",
     "iopub.status.idle": "2023-08-11T10:34:10.404083Z",
     "shell.execute_reply": "2023-08-11T10:34:10.402860Z"
    },
    "papermill": {
     "duration": 0.054824,
     "end_time": "2023-08-11T10:34:10.406119",
     "exception": false,
     "start_time": "2023-08-11T10:34:10.351295",
     "status": "completed"
    },
    "tags": []
   },
   "outputs": [
    {
     "name": "stdout",
     "output_type": "stream",
     "text": [
      "Accuracy: 0.7655502392344498\n"
     ]
    }
   ],
   "source": [
    "model=SVC()\n",
    "model.fit(X_train , y_train)\n",
    "y_pred=model.predict(X_test)\n",
    "accuracy = accuracy_score(y_test, y_pred)\n",
    "print(\"Accuracy:\", accuracy)"
   ]
  },
  {
   "cell_type": "code",
   "execution_count": 64,
   "id": "0c3fbd1e",
   "metadata": {
    "execution": {
     "iopub.execute_input": "2023-08-11T10:34:10.473602Z",
     "iopub.status.busy": "2023-08-11T10:34:10.473269Z",
     "iopub.status.idle": "2023-08-11T10:34:11.936882Z",
     "shell.execute_reply": "2023-08-11T10:34:11.935274Z"
    },
    "papermill": {
     "duration": 1.500419,
     "end_time": "2023-08-11T10:34:11.939255",
     "exception": false,
     "start_time": "2023-08-11T10:34:10.438836",
     "status": "completed"
    },
    "tags": []
   },
   "outputs": [
    {
     "name": "stdout",
     "output_type": "stream",
     "text": [
      "Best Parameters:  {'C': 10000, 'gamma': 0.01}\n",
      "Best Accuracy:  0.922387342573541\n",
      "Test Accuracy:  0.9984051036682615\n"
     ]
    }
   ],
   "source": [
    "from sklearn.model_selection import cross_val_score,KFold,GridSearchCV\n",
    "param_grid = {'C': [0.1, 1, 10,100,1000,10000], 'gamma': [0.0001,0.001,0.01, 0.1, 1,10,100,1000]}\n",
    "# Create an instance of the model\n",
    "model = SVC()\n",
    "# Create an instance of GridSearchCV\n",
    "grid_search = GridSearchCV(estimator=model, param_grid=param_grid, cv=2)\n",
    "# Fit the GridSearchCV \n",
    "grid_search.fit(X_train, y_train)\n",
    "# Get the best parameter \n",
    "best_params = grid_search.best_params_\n",
    "best_accuracy = grid_search.best_score_\n",
    "# Evaluate the model with the best parameters \n",
    "best_model = grid_search.best_estimator_\n",
    "test_accuracy = best_model.score(X_test, y_test)\n",
    "# Print the results\n",
    "print(\"Best Parameters: \", best_params)\n",
    "print(\"Best Accuracy: \", best_accuracy)\n",
    "print(\"Test Accuracy: \", test_accuracy)"
   ]
  },
  {
   "cell_type": "code",
   "execution_count": 65,
   "id": "4217e3fa",
   "metadata": {
    "execution": {
     "iopub.execute_input": "2023-08-11T10:34:12.006978Z",
     "iopub.status.busy": "2023-08-11T10:34:12.006620Z",
     "iopub.status.idle": "2023-08-11T10:34:13.480017Z",
     "shell.execute_reply": "2023-08-11T10:34:13.478393Z"
    },
    "papermill": {
     "duration": 1.509951,
     "end_time": "2023-08-11T10:34:13.482361",
     "exception": false,
     "start_time": "2023-08-11T10:34:11.972410",
     "status": "completed"
    },
    "tags": []
   },
   "outputs": [
    {
     "name": "stdout",
     "output_type": "stream",
     "text": [
      "model:  GridSearchCV(cv=2, estimator=SVC(),\n",
      "             param_grid={'C': [0.1, 1, 10, 100, 1000, 10000],\n",
      "                         'gamma': [0.0001, 0.001, 0.01, 0.1, 1, 10, 100, 1000]})\n",
      "Accuracy: 0.9984051036682615\n",
      "Precision: 0.9952153110047847\n",
      "Recall: 1.0\n",
      "F1 Score: 0.9976019184652278\n",
      "AUC-ROC: 0.9988066825775656\n",
      "Confusion Matrix:\n",
      " [[418   1]\n",
      " [  0 208]]\n",
      "              precision    recall  f1-score   support\n",
      "\n",
      "           0       1.00      1.00      1.00       419\n",
      "           1       1.00      1.00      1.00       208\n",
      "\n",
      "    accuracy                           1.00       627\n",
      "   macro avg       1.00      1.00      1.00       627\n",
      "weighted avg       1.00      1.00      1.00       627\n",
      "\n"
     ]
    }
   ],
   "source": [
    "## check   accuracy of the  SVC\n",
    "evaluate(grid_search,X,y)"
   ]
  },
  {
   "cell_type": "markdown",
   "id": "8d3066c5",
   "metadata": {
    "papermill": {
     "duration": 0.033307,
     "end_time": "2023-08-11T10:34:13.682032",
     "exception": false,
     "start_time": "2023-08-11T10:34:13.648725",
     "status": "completed"
    },
    "tags": []
   },
   "source": [
    "## Decision tree classifier"
   ]
  },
  {
   "cell_type": "code",
   "execution_count": 66,
   "id": "10abb8d8",
   "metadata": {
    "execution": {
     "iopub.execute_input": "2023-08-11T10:34:13.750597Z",
     "iopub.status.busy": "2023-08-11T10:34:13.750262Z",
     "iopub.status.idle": "2023-08-11T10:34:13.764340Z",
     "shell.execute_reply": "2023-08-11T10:34:13.762938Z"
    },
    "papermill": {
     "duration": 0.051156,
     "end_time": "2023-08-11T10:34:13.766573",
     "exception": false,
     "start_time": "2023-08-11T10:34:13.715417",
     "status": "completed"
    },
    "tags": []
   },
   "outputs": [
    {
     "name": "stdout",
     "output_type": "stream",
     "text": [
      "Accuracy on training set: 1.000\n",
      "Accuracy on test set: 0.995\n"
     ]
    }
   ],
   "source": [
    "tree = DecisionTreeClassifier(random_state=0)\n",
    "tree.fit(X_train, y_train)\n",
    "\n",
    "print(\"Accuracy on training set: {:.3f}\".format(tree.score(X_train,y_train))) # To calculate the accuracy of the training data\n",
    "print(\"Accuracy on test set: {:.3f}\".format(tree.score(X_test,y_test)))   # To calculate the accuracy of the test data"
   ]
  },
  {
   "cell_type": "markdown",
   "id": "e1892eb2",
   "metadata": {
    "papermill": {
     "duration": 0.032045,
     "end_time": "2023-08-11T10:34:13.830984",
     "exception": false,
     "start_time": "2023-08-11T10:34:13.798939",
     "status": "completed"
    },
    "tags": []
   },
   "source": [
    "The accuracy on the training set using the decision tree classifier is 100\n",
    "\n",
    "While the accuracy of the test set is much worse. This is an indication that the tree is suffering from over-adjustment\n"
   ]
  },
  {
   "cell_type": "markdown",
   "id": "12afad74",
   "metadata": {
    "papermill": {
     "duration": 0.03243,
     "end_time": "2023-08-11T10:34:13.895854",
     "exception": false,
     "start_time": "2023-08-11T10:34:13.863424",
     "status": "completed"
    },
    "tags": []
   },
   "source": [
    "overfitting , It does not generalize well to new data. Therefore, we need to apply pre-pruning\n",
    "  on the tree"
   ]
  },
  {
   "cell_type": "markdown",
   "id": "08701ba7",
   "metadata": {
    "papermill": {
     "duration": 0.033434,
     "end_time": "2023-08-11T10:34:13.963439",
     "exception": false,
     "start_time": "2023-08-11T10:34:13.930005",
     "status": "completed"
    },
    "tags": []
   },
   "source": [
    "Now I will do it again by setting\n",
    "3 = depth_m\n",
    "Which reduces the depth of the tree.\n",
    "This leads to a lower accuracy in the training set, but improves the test set. "
   ]
  },
  {
   "cell_type": "code",
   "execution_count": 67,
   "id": "51126332",
   "metadata": {
    "execution": {
     "iopub.execute_input": "2023-08-11T10:34:14.033498Z",
     "iopub.status.busy": "2023-08-11T10:34:14.033125Z",
     "iopub.status.idle": "2023-08-11T10:34:14.060846Z",
     "shell.execute_reply": "2023-08-11T10:34:14.059373Z"
    },
    "papermill": {
     "duration": 0.065232,
     "end_time": "2023-08-11T10:34:14.062742",
     "exception": false,
     "start_time": "2023-08-11T10:34:13.997510",
     "status": "completed"
    },
    "tags": []
   },
   "outputs": [
    {
     "name": "stdout",
     "output_type": "stream",
     "text": [
      "model:  DecisionTreeClassifier(ccp_alpha=2, criterion='entropy', max_depth=3,\n",
      "                       min_samples_split=5)\n",
      "Accuracy: 0.6682615629984051\n",
      "Precision: 0.0\n",
      "Recall: 0.0\n",
      "F1 Score: 0.0\n",
      "AUC-ROC: 0.5\n",
      "Confusion Matrix:\n",
      " [[419   0]\n",
      " [208   0]]\n",
      "              precision    recall  f1-score   support\n",
      "\n",
      "           0       0.67      1.00      0.80       419\n",
      "           1       0.00      0.00      0.00       208\n",
      "\n",
      "    accuracy                           0.67       627\n",
      "   macro avg       0.33      0.50      0.40       627\n",
      "weighted avg       0.45      0.67      0.54       627\n",
      "\n"
     ]
    }
   ],
   "source": [
    "## We check   accuracy of the  Decision tree classifier algorithm for predicting diabetes\n",
    "model_tree= DecisionTreeClassifier(criterion=\"entropy\", max_depth = 3,ccp_alpha=2,min_samples_split=5)\n",
    "evaluate(model_tree, X,y)"
   ]
  },
  {
   "cell_type": "markdown",
   "id": "6d470142",
   "metadata": {
    "papermill": {
     "duration": 0.033239,
     "end_time": "2023-08-11T10:34:16.324823",
     "exception": false,
     "start_time": "2023-08-11T10:34:16.291584",
     "status": "completed"
    },
    "tags": []
   },
   "source": [
    "### RandomForestClassifier"
   ]
  },
  {
   "cell_type": "code",
   "execution_count": 68,
   "id": "c6faf915",
   "metadata": {
    "execution": {
     "iopub.execute_input": "2023-08-11T10:34:16.394227Z",
     "iopub.status.busy": "2023-08-11T10:34:16.393890Z",
     "iopub.status.idle": "2023-08-11T10:34:16.605157Z",
     "shell.execute_reply": "2023-08-11T10:34:16.603769Z"
    },
    "papermill": {
     "duration": 0.249619,
     "end_time": "2023-08-11T10:34:16.607790",
     "exception": false,
     "start_time": "2023-08-11T10:34:16.358171",
     "status": "completed"
    },
    "tags": []
   },
   "outputs": [
    {
     "name": "stdout",
     "output_type": "stream",
     "text": [
      "model:  RandomForestClassifier()\n",
      "Accuracy: 0.9920255183413078\n",
      "Precision: 1.0\n",
      "Recall: 0.9759615384615384\n",
      "F1 Score: 0.9878345498783455\n",
      "AUC-ROC: 0.9879807692307692\n",
      "Confusion Matrix:\n",
      " [[419   0]\n",
      " [  5 203]]\n",
      "              precision    recall  f1-score   support\n",
      "\n",
      "           0       0.99      1.00      0.99       419\n",
      "           1       1.00      0.98      0.99       208\n",
      "\n",
      "    accuracy                           0.99       627\n",
      "   macro avg       0.99      0.99      0.99       627\n",
      "weighted avg       0.99      0.99      0.99       627\n",
      "\n"
     ]
    }
   ],
   "source": [
    "evaluate(RandomForestClassifier(),X,y)"
   ]
  },
  {
   "cell_type": "code",
   "execution_count": null,
   "id": "a95e3edf",
   "metadata": {},
   "outputs": [],
   "source": []
  }
 ],
 "metadata": {
  "kernelspec": {
   "display_name": "Python 3 (ipykernel)",
   "language": "python",
   "name": "python3"
  },
  "language_info": {
   "codemirror_mode": {
    "name": "ipython",
    "version": 3
   },
   "file_extension": ".py",
   "mimetype": "text/x-python",
   "name": "python",
   "nbconvert_exporter": "python",
   "pygments_lexer": "ipython3",
   "version": "3.11.5"
  },
  "papermill": {
   "default_parameters": {},
   "duration": 36.848846,
   "end_time": "2023-08-11T10:34:18.005299",
   "environment_variables": {},
   "exception": null,
   "input_path": "__notebook__.ipynb",
   "output_path": "__notebook__.ipynb",
   "parameters": {},
   "start_time": "2023-08-11T10:33:41.156453",
   "version": "2.4.0"
  }
 },
 "nbformat": 4,
 "nbformat_minor": 5
}
